{
  "cells": [
    {
      "cell_type": "markdown",
      "metadata": {
        "id": "PjJE3tTz_XWx"
      },
      "source": [
        "# ĐỒ ÁN CUỐI KỲ\n",
        "## Nhóm 07\n",
        "\n",
        "### Thành viên\n",
        "1. Lưu Hữu Tình - 21424056\n",
        "2. Đặng Hồ Hoàng Duy - 21424073\n",
        "3. Huỳnh Văn Thái - 21424088"
      ]
    },
    {
      "cell_type": "markdown",
      "metadata": {
        "id": "6IA1jYFw1Ov3"
      },
      "source": [
        "<h1>\n",
        "<font color=\"blue\">Chủ đề: THU THẬP DỮ LIỆU THÔNG TIN CÁC ĐỘI BÓNG</font>\n",
        "</h1>"
      ]
    },
    {
      "cell_type": "markdown",
      "metadata": {
        "id": "_xaNockS1Ov3"
      },
      "source": [
        "# PHẦN 1: QUY TRÌNH KHOA HỌC DỮ LIỆU\n",
        "\n",
        "## A. Thu thập dữ liệu (Data collection)"
      ]
    },
    {
      "cell_type": "code",
      "execution_count": null,
      "metadata": {
        "id": "HbEN_2ZCvmSW",
        "colab": {
          "base_uri": "https://localhost:8080/"
        },
        "outputId": "549223cd-530b-4b34-9c83-6a576e58eb79"
      },
      "outputs": [
        {
          "output_type": "stream",
          "name": "stdout",
          "text": [
            "Mounted at /content/drive\n"
          ]
        }
      ],
      "source": [
        "from google.colab import drive\n",
        "drive.mount('/content/drive')"
      ]
    },
    {
      "cell_type": "markdown",
      "metadata": {
        "id": "SEkOb7yNBWVz"
      },
      "source": [
        "<b>Import</b>\n",
        "\n",
        "Cài đặt các thư viện, gói cho việc collect data\n"
      ]
    },
    {
      "cell_type": "code",
      "execution_count": null,
      "metadata": {
        "id": "7ZL9mrLkc3Dp"
      },
      "outputs": [],
      "source": [
        "!pip install scrapy\n",
        "!pip install spider3"
      ]
    },
    {
      "cell_type": "code",
      "execution_count": null,
      "metadata": {
        "id": "Nah1kqOV74Wk"
      },
      "outputs": [],
      "source": [
        "import json\n",
        "import re\n",
        "import pandas as pd\n",
        "import scrapy\n",
        "from pandas.testing import assert_frame_equal\n",
        "import datetime\n",
        "import matplotlib.pyplot as plt"
      ]
    },
    {
      "cell_type": "markdown",
      "metadata": {
        "id": "d9hY-O1W_omi"
      },
      "source": [
        "Bóng đá là môn thể thao hấp dẫn nhất hành tinh. Chúng ta sẽ khởi động môn học bằng việc thu thập dữ liệu của các CLB bóng đá. SoFIFA (https://sofifa.com/) là một trang web lưu trữ dữ liệu của các CLB trong trò chơi bóng đá nổi tiếng FIFA 23 mà có các chỉ số phản ánh gần đúng với phong độ của các CLB bóng đá ngoài đời. Trong phần này, nhiệm vụ đầu tiên là cần thu thập ID của các CLB.\n",
        "\n",
        "#### Tạo một project mới với scrapy\n",
        "\n",
        "Để sử dụng thư viện scrapy sau khi cài đặt xong, gọi câu lệnh như bên dưới để bắt đầu tạo một project mới với scrapy với tên gọi là `fifa_crawler`."
      ]
    },
    {
      "cell_type": "code",
      "execution_count": null,
      "metadata": {
        "colab": {
          "base_uri": "https://localhost:8080/"
        },
        "id": "6ndHFd1lWnUj",
        "outputId": "2f56699c-4bd8-4e5d-d10c-f1143332a399"
      },
      "outputs": [
        {
          "output_type": "stream",
          "name": "stdout",
          "text": [
            "New Scrapy project 'fifa_crawler', using template directory '/usr/local/lib/python3.10/dist-packages/scrapy/templates/project', created in:\n",
            "    /content/fifa_crawler\n",
            "\n",
            "You can start your first spider with:\n",
            "    cd fifa_crawler\n",
            "    scrapy genspider example example.com\n"
          ]
        }
      ],
      "source": [
        "!scrapy startproject fifa_crawler"
      ]
    },
    {
      "cell_type": "code",
      "execution_count": null,
      "metadata": {
        "colab": {
          "base_uri": "https://localhost:8080/"
        },
        "id": "TyLNgVqWvt3Z",
        "outputId": "1e4ecf29-0e31-4d21-a6aa-701d556e0e85"
      },
      "outputs": [
        {
          "output_type": "stream",
          "name": "stdout",
          "text": [
            "/content/fifa_crawler/fifa_crawler\n"
          ]
        }
      ],
      "source": [
        "cd fifa_crawler/fifa_crawler"
      ]
    },
    {
      "cell_type": "markdown",
      "metadata": {
        "id": "SnysguzmAOMV"
      },
      "source": [
        "Sau khi tạo xong project với scrapy, vì thu thập dữ liệu với thư viện này không cho phép xài notebook trực tiếp nên các bạn sau khi hoàn thành xong class `collect_team_url` (scrapy.Spider) ở bên dưới, tạo một file có tên `collect_teams_urls.py` vào đường dẫn sau `fifa_crawler/fifa_crawler/spiders/collect_teams_urls.py`."
      ]
    },
    {
      "cell_type": "markdown",
      "metadata": {
        "id": "Gr3zUqrt1Ov8"
      },
      "source": [
        "<b>Tạo file collect_teams_urls.py</b>\n",
        "\n",
        "1. File sẽ collect data từ trang https://sofifa.com/teams?col=oa&sort=desc&offset=0\n",
        "2. Cấu trúc trả về là json, danh sách các url của mỗi đội bóng\n",
        "```json\n",
        "[\n",
        "{\"team_url\": \"/team/10\"},\n",
        "{\"team_url\": \"/team/21\"},\n",
        "...\n",
        "]\n",
        "```"
      ]
    },
    {
      "cell_type": "code",
      "execution_count": null,
      "metadata": {
        "id": "nsIYPdgWeJ0z"
      },
      "outputs": [],
      "source": [
        "# File: \\fifa_crawler\\fifa_crawler\\spiders\\collect_teams_urls.py\n",
        "import scrapy\n",
        "\n",
        "class collect_team_url(scrapy.Spider):\n",
        "  name='teams_urls' \n",
        "  \n",
        "  def start_requests(self):\n",
        "    urls = ['https://sofifa.com/teams?col=oa&sort=desc&offset=0']\n",
        "    \n",
        "    # YOUR CODE HERE\n",
        "    headers = {'User-Agent': 'Mozilla/5.0 (Windows NT 10.0; Win64; x64) AppleWebKit/537.36 (KHTML, like Gecko) Chrome/58.0.3029.110 Safari/537.3'}\n",
        "\n",
        "    for i in range(1,13):\n",
        "        # Mỗi trang hiển thị 60 cầu thủ\n",
        "        url = f'https://sofifa.com/teams?col=oa&sort=desc&offset={i*60}' \n",
        "        urls.append(url)\n",
        "\n",
        "    for url in urls:\n",
        "      yield scrapy.Request(url=url, headers=headers, callback=self.parse)\n",
        "\n",
        "  def parse(self, response):\n",
        "    # <td class=\"col-name-wide\"> \n",
        "    #  <a href=\"/team/10/manchester-city/\">\n",
        "    team_urls = response.css('td.col-name-wide a::attr(href)').extract()\n",
        "    team_ids = []\n",
        "    for url in team_urls:\n",
        "      # Get team /team/10\n",
        "      if url.split('/')[1] == \"team\":\n",
        "        team_id = url.split('/')[2]\n",
        "        team_url = f\"/team/{team_id}\"\n",
        "        team_item = {\"team_url\": team_url}\n",
        "        yield team_item"
      ]
    },
    {
      "cell_type": "markdown",
      "metadata": {
        "id": "svTVfwL51Ov9"
      },
      "source": [
        "<b>Start collect data từ file collect_teams_urls.py</b>\n",
        "\n",
        "Data collect được lưu vào dataset/teams_urls.json"
      ]
    },
    {
      "cell_type": "code",
      "execution_count": null,
      "metadata": {
        "id": "kLoJ44s6e9NG"
      },
      "outputs": [],
      "source": [
        "# Remove file data collect if exist\n",
        "!rm /content/fifa_crawler/fifa_crawler/dataset/teams_urls.json\n",
        "\n",
        "# Crawl data\n",
        "!scrapy crawl teams_urls -o dataset/teams_urls.json"
      ]
    },
    {
      "cell_type": "code",
      "source": [
        "with open('/content/fifa_crawler/fifa_crawler/dataset/teams_urls.json') as f:\n",
        "    data = json.load(f)\n",
        "\n",
        "print('Danh sách bao gồm', len(data), 'ID của các CLB.')\n"
      ],
      "metadata": {
        "colab": {
          "base_uri": "https://localhost:8080/"
        },
        "id": "wsHYo26T2Lfp",
        "outputId": "23f05bd1-cbad-4456-aaf1-38b2392f4139"
      },
      "execution_count": null,
      "outputs": [
        {
          "output_type": "stream",
          "name": "stdout",
          "text": [
            "Danh sách bao gồm 711 ID của các CLB.\n"
          ]
        }
      ]
    },
    {
      "cell_type": "markdown",
      "metadata": {
        "id": "bj5VAkIVArRq"
      },
      "source": [
        "Sau khi đã có danh sách 712 ID của các CLB đã thu thập từ trang web SoFIFA, bạn sẽ tiến hành thu thập dữ liệu cụ thể của từng CLB ứng với các ID này bằng cách hoàn thành class `collect_team_info`(scrapy.Spider) như bên dưới."
      ]
    },
    {
      "cell_type": "markdown",
      "metadata": {
        "id": "GjS66tCS1Ov9"
      },
      "source": [
        "<b>Tạo file collect_teams_info.py</b>\n",
        "\n",
        "1. Thu thập thông tin chi tiết của mỗi đội bóng\n",
        "2. Trả về data dạng json\n",
        "```json\n",
        "[\n",
        "{\n",
        "    \"Name\": \"Chelsea\", \n",
        "    \"League\": \"[England] Premier League\", \n",
        "    \"Overall\": \"83\", \n",
        "    \"Attack\": \"83\", \n",
        "    \"Midfield\": \"81\", \n",
        "    \"Defence\": \"82\", \n",
        "    \"Home stadium\": \"Stamford Bridge\", \n",
        "    \"Rival team\": \"Arsenal\", \n",
        "    \"International prestige\": \"8\", \n",
        "    \"Domestic prestige\": \"9\", \n",
        "    \"Club worth\": \"\\n\", \n",
        "    \"Starting XI average age\": \"24.55\", \n",
        "    \"Whole team average age\": \"24.39\", \n",
        "    \"Captain\": \"R. James\", \n",
        "    \"Short free kick\": \"R. James\", \n",
        "    \"Long free kick\": \"E. Fernández\", \n",
        "    \"Left short free kick\": \"João Félix\", \n",
        "    \"Right short free kick\": \"R. James\", \n",
        "    \"Penalties\": \"K. Havertz\", \n",
        "    \"Left corner\": \"B. Chilwell\", \n",
        "    \"Right corner\": \"R. James\"\n",
        "},\n",
        "    ...\n",
        "]\n",
        "```"
      ]
    },
    {
      "cell_type": "code",
      "execution_count": 100,
      "metadata": {
        "id": "7vHUkFitpbpv"
      },
      "outputs": [],
      "source": [
        "# \\fifa_crawler\\fifa_crawler\\spiders\\collect_teams_info.py\n",
        "import scrapy\n",
        "import json\n",
        "import re\n",
        "import datetime\n",
        "\n",
        "class collect_team_info(scrapy.Spider):\n",
        "  name='teams_info'\n",
        "  \n",
        "  def __init__(self):\n",
        "    try:\n",
        "      with open('dataset/teams_urls.json') as f:\n",
        "        self.teams = json.load(f)\n",
        "      self.team_count = 1\n",
        "    except IOError:\n",
        "      print(\"File not found\")\n",
        "\n",
        "  def start_requests(self):\n",
        "    # YOUR CODE HERE\n",
        "    \n",
        "    headers = {'User-Agent': 'Mozilla/5.0 (Windows NT 10.0; Win64; x64) AppleWebKit/537.36 (KHTML, like Gecko) Chrome/58.0.3029.110 Safari/537.3'}\n",
        "    \n",
        "    for team in self.teams:\n",
        "      # https://sofifa.com/team/10\n",
        "      url = 'https://sofifa.com' + team['team_url'] + '?units=mks'\n",
        "      yield scrapy.Request(url=url, headers=headers, callback=self.parse)\n",
        "  \n",
        "  def parse(self, response):\n",
        "      # YOUR CODE HERE\n",
        "      team_info = {}\n",
        "\n",
        "      team_info[\"Name\"] = response.css('div.info h1::text').get();\n",
        "\n",
        "      team_info[\"League\"] = response.css('div.meta.ellipsis a::text').get()\n",
        "\n",
        "      ratings = response.css('section.card .bp3-tag.p::text').getall()\n",
        "\n",
        "      team_info[\"Overall\"] = ratings[0]\n",
        "\n",
        "      team_info[\"Attack\"] = ratings[1]\n",
        "      \n",
        "      team_info[\"Midfield\"] = ratings[2]\n",
        "      \n",
        "      team_info[\"Defence\"] = ratings[3]\n",
        "\n",
        "      team_info[\"Home stadium\"] = response.css('ul.pl li.ellipsis:contains(\"Home stadium\")::text').get()\n",
        "      \n",
        "      team_info[\"Rival team\"] = response.css('ul.pl li:contains(\"Rival team\") a::text').get()\n",
        "\n",
        "      team_info[\"International prestige\"] = response.css('ul.pl li:contains(\"International prestige\") span::text').get()\n",
        "\n",
        "      team_info[\"Domestic prestige\"] = response.css('ul.pl li:contains(\"Domestic prestige\") span::text').get()\n",
        "\n",
        "      team_info[\"Club worth\"] =response.xpath('//li[contains(label, \"Club worth\")]/text()').re_first(r'€([\\d\\.]+)M')\n",
        "\n",
        "      team_info[\"Starting XI average age\"] = response.css('ul.pl li:contains(\"Starting XI average age\")::text').get()\n",
        "\n",
        "      team_info[\"Whole team average age\"] = response.css('ul.pl li:contains(\"Whole team average age\")::text').get()\n",
        "\n",
        "      team_info[\"Captain\"] = response.css('ul.pl li:contains(\"Captain\") a::text').get()\n",
        "\n",
        "      team_info[\"Short free kick\"] = response.css('ul.pl li:contains(\"Short free kick\") a::text').get()\n",
        "\n",
        "      team_info[\"Long free kick\"] = response.css('ul.pl li:contains(\"Long free kick\") a::text').get()\n",
        "\n",
        "      team_info[\"Left short free kick\"] = response.css('ul.pl li:contains(\"Left short free kick\") a::text').get()\n",
        "      \n",
        "      team_info[\"Right short free kick\"] = response.css('ul.pl li:contains(\"Right short free kick\") a::text').get()\n",
        "      \n",
        "      team_info[\"Penalties\"] = response.css('ul.pl li:contains(\"Penalties\") a::text').get()\n",
        "      \n",
        "      team_info[\"Left corner\"] = response.css('ul.pl li:contains(\"Left corner\") a::text').get()\n",
        "      \n",
        "      team_info[\"Right corner\"] = response.css('ul.pl li:contains(\"Right corner\") a::text').get()\n",
        "\n",
        "      yield team_info"
      ]
    },
    {
      "cell_type": "markdown",
      "metadata": {
        "id": "WMtk8cmuqnXm"
      },
      "source": [
        "Sau khi đã hoàn thành class ở trên và lưu lại trong file `collect_teams_info.py`, các bạn sẽ tiếp tục chạy câu lệnh bên dưới để thu thập thông tin chi tiết của toàn bộ 712 CLB và xuất ra file `teams_info.json` ở cùng đường dẫn dataset như trên."
      ]
    },
    {
      "cell_type": "markdown",
      "source": [
        "**Chú thích:**\n",
        "- Do trang web  `https://sofifa.com/` đang giới hạn số lượng yêu cầu trên mỗi khoảng thời gian để tránh quá tải. Việc này ảnh hưởng đến việc crawl dữ liệu không đầy đủ.\n",
        "\n",
        "```sh\n",
        "DOWNLOAD_DELAY = 0.5\n",
        "```\n",
        "\n",
        "Để khắc phục sự cố này, bạn có thể thêm độ trễ giữa mỗi yêu cầu để bạn không gửi quá nhiều yêu cầu trong một khoảng thời gian ngắn. Bạn có thể thực hiện việc này bằng cách sử dụng cài đặt `DOWNLOAD_DELAY` trong tệp `settings.py` của dự án Scrapy của mình. Ví dụ: bạn có thể đặt thành `DOWNLOAD_DELAY = 0.5` để đợi 0.5 giây giữa mỗi yêu cầu."
      ],
      "metadata": {
        "id": "HU9RnSzPMhUp"
      }
    },
    {
      "cell_type": "markdown",
      "metadata": {
        "id": "W3ohWcdF1Ov-"
      },
      "source": [
        "<b>Start collect data từ file collect_teams_info.py</b>\n",
        "\n",
        "Data collect được lưu vào dataset/teams_info.json"
      ]
    },
    {
      "cell_type": "code",
      "execution_count": null,
      "metadata": {
        "id": "ZeWsqMVMpNpW"
      },
      "outputs": [],
      "source": [
        "# remove data collect if exist\n",
        "!rm /content/fifa_crawler/fifa_crawler/dataset/teams_info.json\n",
        "\n",
        "!scrapy crawl teams_info -o dataset/teams_info.json"
      ]
    },
    {
      "cell_type": "markdown",
      "metadata": {
        "id": "SMnag5Vc1Ov_"
      },
      "source": [
        "<b>Đọc thông tin collect được lưu vào biến df</b>"
      ]
    },
    {
      "cell_type": "code",
      "execution_count": 14,
      "metadata": {
        "id": "W9C7zaCd8H6l",
        "colab": {
          "base_uri": "https://localhost:8080/"
        },
        "outputId": "813efafb-f748-4fc0-9158-99110cd24d77"
      },
      "outputs": [
        {
          "output_type": "stream",
          "name": "stdout",
          "text": [
            "Bảng gồm  21  thuộc tính (trường dữ liệu) và  711  dòng (records).\n"
          ]
        }
      ],
      "source": [
        "#df = pd.read_json('dataset/teams_info.json', encoding='utf-8-sig')\n",
        "df = pd.read_json('/content/fifa_crawler/fifa_crawler/dataset/teams_info.json', encoding='utf-8-sig')\n",
        "\n",
        "print(\"Bảng gồm \",df.shape[1],\" thuộc tính (trường dữ liệu) và \",len(df),\" dòng (records).\")\n",
        "\n"
      ]
    },
    {
      "cell_type": "code",
      "source": [
        "df.tail()"
      ],
      "metadata": {
        "id": "uS2s5f96888e",
        "colab": {
          "base_uri": "https://localhost:8080/",
          "height": 543
        },
        "outputId": "044b1903-a7e2-4ec6-d948-617943c6e3e2"
      },
      "execution_count": 15,
      "outputs": [
        {
          "output_type": "execute_result",
          "data": {
            "text/plain": [
              "                 Name                                  League  Overall  \\\n",
              "706     Hallescher FC                       [Germany] 3. Liga       64   \n",
              "707  NorthEast United             [India] Indian Super League       57   \n",
              "708     Guangzhou R&F                 [China PR] Super League       56   \n",
              "709               UCD  [Republic of Ireland] Premier Division       55   \n",
              "710        Hebei CFFC                 [China PR] Super League       52   \n",
              "\n",
              "     Attack  Midfield  Defence                     Home stadium  \\\n",
              "706      63        64       64                    Stadion Neder   \n",
              "707      60        55       56  Stade Kokoto (Generic Africa 2)   \n",
              "708      57        60       53                       Euro Arena   \n",
              "709      53        54       54                              469   \n",
              "710      52        50       54                       Euro Arena   \n",
              "\n",
              "                Rival team  International prestige  Domestic prestige  ...  \\\n",
              "706              Magdeburg                       1                6.0  ...   \n",
              "707        ATK Mohun Bagan                       1                3.0  ...   \n",
              "708              Guangzhou                       2                4.0  ...   \n",
              "709        Shamrock Rovers                       1                1.0  ...   \n",
              "710  Cangzhou Mighty Lions                       1                3.0  ...   \n",
              "\n",
              "     Starting XI average age  Whole team average age       Captain  \\\n",
              "706                    24.73                   24.14   J. Nietfeld   \n",
              "707                    26.27                   26.36     W. Jordán   \n",
              "708                    25.91                   23.96    J. Cardona   \n",
              "709                    20.27                   19.86     J. Keaney   \n",
              "710                    23.27                   21.88  Ding Haifeng   \n",
              "\n",
              "      Short free kick    Long free kick Left short free kick  \\\n",
              "706        N. Kreuzer        N. Kreuzer           N. Kreuzer   \n",
              "707  R. Philippoteaux  R. Philippoteaux     R. Philippoteaux   \n",
              "708        J. Cardona        J. Cardona           J. Cardona   \n",
              "709          C. Behan          C. Behan             C. Behan   \n",
              "710      Ding Haifeng      Ding Haifeng         Ding Haifeng   \n",
              "\n",
              "    Right short free kick    Penalties       Left corner      Right corner  \n",
              "706            N. Kreuzer   D. Steczyk        N. Kreuzer        N. Kreuzer  \n",
              "707      R. Philippoteaux    W. Jordán  R. Philippoteaux  R. Philippoteaux  \n",
              "708            J. Cardona   J. Cardona       Fan Yunlong       Fan Yunlong  \n",
              "709              C. Behan    J. Keaney          C. Behan          C. Behan  \n",
              "710          Ding Haifeng  Xu Tianyuan      Ding Haifeng      Ding Haifeng  \n",
              "\n",
              "[5 rows x 21 columns]"
            ],
            "text/html": [
              "\n",
              "  <div id=\"df-f2521471-025f-4437-a4dd-456e0c9f3fe2\">\n",
              "    <div class=\"colab-df-container\">\n",
              "      <div>\n",
              "<style scoped>\n",
              "    .dataframe tbody tr th:only-of-type {\n",
              "        vertical-align: middle;\n",
              "    }\n",
              "\n",
              "    .dataframe tbody tr th {\n",
              "        vertical-align: top;\n",
              "    }\n",
              "\n",
              "    .dataframe thead th {\n",
              "        text-align: right;\n",
              "    }\n",
              "</style>\n",
              "<table border=\"1\" class=\"dataframe\">\n",
              "  <thead>\n",
              "    <tr style=\"text-align: right;\">\n",
              "      <th></th>\n",
              "      <th>Name</th>\n",
              "      <th>League</th>\n",
              "      <th>Overall</th>\n",
              "      <th>Attack</th>\n",
              "      <th>Midfield</th>\n",
              "      <th>Defence</th>\n",
              "      <th>Home stadium</th>\n",
              "      <th>Rival team</th>\n",
              "      <th>International prestige</th>\n",
              "      <th>Domestic prestige</th>\n",
              "      <th>...</th>\n",
              "      <th>Starting XI average age</th>\n",
              "      <th>Whole team average age</th>\n",
              "      <th>Captain</th>\n",
              "      <th>Short free kick</th>\n",
              "      <th>Long free kick</th>\n",
              "      <th>Left short free kick</th>\n",
              "      <th>Right short free kick</th>\n",
              "      <th>Penalties</th>\n",
              "      <th>Left corner</th>\n",
              "      <th>Right corner</th>\n",
              "    </tr>\n",
              "  </thead>\n",
              "  <tbody>\n",
              "    <tr>\n",
              "      <th>706</th>\n",
              "      <td>Hallescher FC</td>\n",
              "      <td>[Germany] 3. Liga</td>\n",
              "      <td>64</td>\n",
              "      <td>63</td>\n",
              "      <td>64</td>\n",
              "      <td>64</td>\n",
              "      <td>Stadion Neder</td>\n",
              "      <td>Magdeburg</td>\n",
              "      <td>1</td>\n",
              "      <td>6.0</td>\n",
              "      <td>...</td>\n",
              "      <td>24.73</td>\n",
              "      <td>24.14</td>\n",
              "      <td>J. Nietfeld</td>\n",
              "      <td>N. Kreuzer</td>\n",
              "      <td>N. Kreuzer</td>\n",
              "      <td>N. Kreuzer</td>\n",
              "      <td>N. Kreuzer</td>\n",
              "      <td>D. Steczyk</td>\n",
              "      <td>N. Kreuzer</td>\n",
              "      <td>N. Kreuzer</td>\n",
              "    </tr>\n",
              "    <tr>\n",
              "      <th>707</th>\n",
              "      <td>NorthEast United</td>\n",
              "      <td>[India] Indian Super League</td>\n",
              "      <td>57</td>\n",
              "      <td>60</td>\n",
              "      <td>55</td>\n",
              "      <td>56</td>\n",
              "      <td>Stade Kokoto (Generic Africa 2)</td>\n",
              "      <td>ATK Mohun Bagan</td>\n",
              "      <td>1</td>\n",
              "      <td>3.0</td>\n",
              "      <td>...</td>\n",
              "      <td>26.27</td>\n",
              "      <td>26.36</td>\n",
              "      <td>W. Jordán</td>\n",
              "      <td>R. Philippoteaux</td>\n",
              "      <td>R. Philippoteaux</td>\n",
              "      <td>R. Philippoteaux</td>\n",
              "      <td>R. Philippoteaux</td>\n",
              "      <td>W. Jordán</td>\n",
              "      <td>R. Philippoteaux</td>\n",
              "      <td>R. Philippoteaux</td>\n",
              "    </tr>\n",
              "    <tr>\n",
              "      <th>708</th>\n",
              "      <td>Guangzhou R&amp;F</td>\n",
              "      <td>[China PR] Super League</td>\n",
              "      <td>56</td>\n",
              "      <td>57</td>\n",
              "      <td>60</td>\n",
              "      <td>53</td>\n",
              "      <td>Euro Arena</td>\n",
              "      <td>Guangzhou</td>\n",
              "      <td>2</td>\n",
              "      <td>4.0</td>\n",
              "      <td>...</td>\n",
              "      <td>25.91</td>\n",
              "      <td>23.96</td>\n",
              "      <td>J. Cardona</td>\n",
              "      <td>J. Cardona</td>\n",
              "      <td>J. Cardona</td>\n",
              "      <td>J. Cardona</td>\n",
              "      <td>J. Cardona</td>\n",
              "      <td>J. Cardona</td>\n",
              "      <td>Fan Yunlong</td>\n",
              "      <td>Fan Yunlong</td>\n",
              "    </tr>\n",
              "    <tr>\n",
              "      <th>709</th>\n",
              "      <td>UCD</td>\n",
              "      <td>[Republic of Ireland] Premier Division</td>\n",
              "      <td>55</td>\n",
              "      <td>53</td>\n",
              "      <td>54</td>\n",
              "      <td>54</td>\n",
              "      <td>469</td>\n",
              "      <td>Shamrock Rovers</td>\n",
              "      <td>1</td>\n",
              "      <td>1.0</td>\n",
              "      <td>...</td>\n",
              "      <td>20.27</td>\n",
              "      <td>19.86</td>\n",
              "      <td>J. Keaney</td>\n",
              "      <td>C. Behan</td>\n",
              "      <td>C. Behan</td>\n",
              "      <td>C. Behan</td>\n",
              "      <td>C. Behan</td>\n",
              "      <td>J. Keaney</td>\n",
              "      <td>C. Behan</td>\n",
              "      <td>C. Behan</td>\n",
              "    </tr>\n",
              "    <tr>\n",
              "      <th>710</th>\n",
              "      <td>Hebei CFFC</td>\n",
              "      <td>[China PR] Super League</td>\n",
              "      <td>52</td>\n",
              "      <td>52</td>\n",
              "      <td>50</td>\n",
              "      <td>54</td>\n",
              "      <td>Euro Arena</td>\n",
              "      <td>Cangzhou Mighty Lions</td>\n",
              "      <td>1</td>\n",
              "      <td>3.0</td>\n",
              "      <td>...</td>\n",
              "      <td>23.27</td>\n",
              "      <td>21.88</td>\n",
              "      <td>Ding Haifeng</td>\n",
              "      <td>Ding Haifeng</td>\n",
              "      <td>Ding Haifeng</td>\n",
              "      <td>Ding Haifeng</td>\n",
              "      <td>Ding Haifeng</td>\n",
              "      <td>Xu Tianyuan</td>\n",
              "      <td>Ding Haifeng</td>\n",
              "      <td>Ding Haifeng</td>\n",
              "    </tr>\n",
              "  </tbody>\n",
              "</table>\n",
              "<p>5 rows × 21 columns</p>\n",
              "</div>\n",
              "      <button class=\"colab-df-convert\" onclick=\"convertToInteractive('df-f2521471-025f-4437-a4dd-456e0c9f3fe2')\"\n",
              "              title=\"Convert this dataframe to an interactive table.\"\n",
              "              style=\"display:none;\">\n",
              "        \n",
              "  <svg xmlns=\"http://www.w3.org/2000/svg\" height=\"24px\"viewBox=\"0 0 24 24\"\n",
              "       width=\"24px\">\n",
              "    <path d=\"M0 0h24v24H0V0z\" fill=\"none\"/>\n",
              "    <path d=\"M18.56 5.44l.94 2.06.94-2.06 2.06-.94-2.06-.94-.94-2.06-.94 2.06-2.06.94zm-11 1L8.5 8.5l.94-2.06 2.06-.94-2.06-.94L8.5 2.5l-.94 2.06-2.06.94zm10 10l.94 2.06.94-2.06 2.06-.94-2.06-.94-.94-2.06-.94 2.06-2.06.94z\"/><path d=\"M17.41 7.96l-1.37-1.37c-.4-.4-.92-.59-1.43-.59-.52 0-1.04.2-1.43.59L10.3 9.45l-7.72 7.72c-.78.78-.78 2.05 0 2.83L4 21.41c.39.39.9.59 1.41.59.51 0 1.02-.2 1.41-.59l7.78-7.78 2.81-2.81c.8-.78.8-2.07 0-2.86zM5.41 20L4 18.59l7.72-7.72 1.47 1.35L5.41 20z\"/>\n",
              "  </svg>\n",
              "      </button>\n",
              "      \n",
              "  <style>\n",
              "    .colab-df-container {\n",
              "      display:flex;\n",
              "      flex-wrap:wrap;\n",
              "      gap: 12px;\n",
              "    }\n",
              "\n",
              "    .colab-df-convert {\n",
              "      background-color: #E8F0FE;\n",
              "      border: none;\n",
              "      border-radius: 50%;\n",
              "      cursor: pointer;\n",
              "      display: none;\n",
              "      fill: #1967D2;\n",
              "      height: 32px;\n",
              "      padding: 0 0 0 0;\n",
              "      width: 32px;\n",
              "    }\n",
              "\n",
              "    .colab-df-convert:hover {\n",
              "      background-color: #E2EBFA;\n",
              "      box-shadow: 0px 1px 2px rgba(60, 64, 67, 0.3), 0px 1px 3px 1px rgba(60, 64, 67, 0.15);\n",
              "      fill: #174EA6;\n",
              "    }\n",
              "\n",
              "    [theme=dark] .colab-df-convert {\n",
              "      background-color: #3B4455;\n",
              "      fill: #D2E3FC;\n",
              "    }\n",
              "\n",
              "    [theme=dark] .colab-df-convert:hover {\n",
              "      background-color: #434B5C;\n",
              "      box-shadow: 0px 1px 3px 1px rgba(0, 0, 0, 0.15);\n",
              "      filter: drop-shadow(0px 1px 2px rgba(0, 0, 0, 0.3));\n",
              "      fill: #FFFFFF;\n",
              "    }\n",
              "  </style>\n",
              "\n",
              "      <script>\n",
              "        const buttonEl =\n",
              "          document.querySelector('#df-f2521471-025f-4437-a4dd-456e0c9f3fe2 button.colab-df-convert');\n",
              "        buttonEl.style.display =\n",
              "          google.colab.kernel.accessAllowed ? 'block' : 'none';\n",
              "\n",
              "        async function convertToInteractive(key) {\n",
              "          const element = document.querySelector('#df-f2521471-025f-4437-a4dd-456e0c9f3fe2');\n",
              "          const dataTable =\n",
              "            await google.colab.kernel.invokeFunction('convertToInteractive',\n",
              "                                                     [key], {});\n",
              "          if (!dataTable) return;\n",
              "\n",
              "          const docLinkHtml = 'Like what you see? Visit the ' +\n",
              "            '<a target=\"_blank\" href=https://colab.research.google.com/notebooks/data_table.ipynb>data table notebook</a>'\n",
              "            + ' to learn more about interactive tables.';\n",
              "          element.innerHTML = '';\n",
              "          dataTable['output_type'] = 'display_data';\n",
              "          await google.colab.output.renderOutput(dataTable, element);\n",
              "          const docLink = document.createElement('div');\n",
              "          docLink.innerHTML = docLinkHtml;\n",
              "          element.appendChild(docLink);\n",
              "        }\n",
              "      </script>\n",
              "    </div>\n",
              "  </div>\n",
              "  "
            ]
          },
          "metadata": {},
          "execution_count": 15
        }
      ]
    },
    {
      "cell_type": "markdown",
      "metadata": {
        "id": "BVXSFBgI9cyb"
      },
      "source": [
        "## B. Khám phá dữ liệu (thường đan xen với tiền xử lý dữ liệu)\n",
        "\n",
        "1. Mỗi dòng có ý nghĩa gì? Có vấn đề các dòng có ý nghĩa khác nhau không?\n",
        "\n",
        "* Mỗi dòng trong bảng này tương ứng với thông tin về một đội bóng.  \n",
        "\n",
        "*  Nếu mỗi đội bóng trong bảng đều có thông tin khác nhau, điều này có ý nghĩa rất quan trọng. \n",
        "\n",
        "  > Bảng này chứa thông tin chi tiết về các đội bóng, bao gồm điểm số, ngân sách, độ tuổi, cầu thủ xuất sắc, sân nhà và nhiều yếu tố khác. \n",
        "  \n",
        "  > Các thông tin này là **quan trọng trong việc phân tích và so sánh hiệu suất của các đội bóng**, đưa ra dự đoán và quyết định về các cược và cách chơi trong các trận đấu. \n",
        "  \n",
        "  >Nếu tất cả các đội bóng trong bảng đều có thông tin giống nhau, thì bảng sẽ không có giá trị trong việc phân tích và so sánh hiệu suất của các đội bóng đó. \n",
        "\n",
        "Tuy nhiên, nếu mỗi đội bóng trong bảng đều có thông tin khác nhau, thì bảng sẽ cung cấp cho chúng ta **một tài nguyên quý giá** trong việc **tìm hiểu và đưa ra các quyết định về các đội bóng trong các giải đấu bóng đá**.\n"
      ]
    },
    {
      "cell_type": "markdown",
      "metadata": {
        "id": "VVXDTsadDjj2"
      },
      "source": [
        "2.Mỗi cột có ý nghĩa gì?\n",
        "\n",
        "- Các cột trong dữ liệu này có ý nghĩa như sau:\n",
        "\n",
        "| Field | Description |\n",
        "| --- | --- |\n",
        "| Name | Tên đội bóng. |\n",
        "| League | Tên giải đấu mà đội bóng đang tham gia. |\n",
        "| Overall | Điểm số tổng thể của đội bóng. Khoảng biểu diễn [1, 100].|\n",
        "| Attack | Điểm số tấn công của đội bóng. Khoảng biểu diễn [1, 10]. |\n",
        "| Midfield | Điểm số tiền vệ của đội bóng. Khoảng biểu diễn [1, 100]. |\n",
        "| Defence | Điểm số phòng thủ của đội bóng. Khoảng biểu diễn [1, 100]. |\n",
        "| Home stadium | Sân nhà của đội bóng. |\n",
        "| Rival team | Đối thủ chính của đội bóng. |\n",
        "| International prestige | Độ uy tín của đội bóng trong các giải đấu quốc tế. Khoảng biểu diễn [1, 10]. |\n",
        "| Domestic prestige | Độ uy tín của đội bóng trong các giải đấu trong nước. Khoảng biểu diễn [1, 10]. |\n",
        "| Transfer budget | Ngân sách chuyển nhượng của đội bóng. Khoảng biểu diễn [€100.0M, €10.0B]. |\n",
        "| Starting XI average age | Tuổi trung bình của đội hình xuất phát. Khoảng biểu diễn [18, 30]. |\n",
        "| Whole team average age | Tuổi trung bình của toàn đội bóng. Khoảng biểu diễn [18, 30].  |\n",
        "| Captain | Tên cầu thủ đội trưởng của đội bóng. |\n",
        "| Short free kick | Cầu thủ thực hiện đá phạt ngắn. |\n",
        "| Long free kick | Cầu thủ thực hiện đá phạt dài. |\n",
        "| Left short free kick | Cầu thủ thực hiện đá phạt ngắn bên trái. |\n",
        "| Right short free kick | Cầu thủ thực hiện đá phạt ngắn bên phải. |\n",
        "| Penalties | Cầu thủ thực hiện đá phạt đền. |\n",
        "| Left corner | Cầu thủ thực hiện đá phạt góc bên trái. |\n",
        "| Right corner | Cầu thủ thực hiện đá phạt góc bên phải. |"
      ]
    },
    {
      "cell_type": "markdown",
      "metadata": {
        "id": "8dnQ5vatDoCG"
      },
      "source": [
        "3. Mỗi cột hiện đang có kiểu dữ liệu gì? Khoảng biểu diễn của kiểu dữ liệu đó ra sao?\n",
        "Có cột nào có kiểu dữ liệu chưa phù hợp để có thể xử lý tiếp hay không?\n",
        "\n",
        "* Sau khi tạo DataFrame, chúng ta có thể sử dụng phương thức info() để xem thông tin tổng quan về dữ liệu:"
      ]
    },
    {
      "cell_type": "code",
      "execution_count": 16,
      "metadata": {
        "id": "aTWpzexCDvmC",
        "colab": {
          "base_uri": "https://localhost:8080/"
        },
        "outputId": "26e83109-500f-4fc1-bb0e-6c989a24c038"
      },
      "outputs": [
        {
          "output_type": "stream",
          "name": "stdout",
          "text": [
            "<class 'pandas.core.frame.DataFrame'>\n",
            "RangeIndex: 711 entries, 0 to 710\n",
            "Data columns (total 21 columns):\n",
            " #   Column                   Non-Null Count  Dtype  \n",
            "---  ------                   --------------  -----  \n",
            " 0   Name                     711 non-null    object \n",
            " 1   League                   711 non-null    object \n",
            " 2   Overall                  711 non-null    int64  \n",
            " 3   Attack                   711 non-null    int64  \n",
            " 4   Midfield                 711 non-null    int64  \n",
            " 5   Defence                  711 non-null    int64  \n",
            " 6   Home stadium             686 non-null    object \n",
            " 7   Rival team               711 non-null    object \n",
            " 8   International prestige   711 non-null    int64  \n",
            " 9   Domestic prestige        676 non-null    float64\n",
            " 10  Club worth               654 non-null    float64\n",
            " 11  Starting XI average age  711 non-null    float64\n",
            " 12  Whole team average age   711 non-null    float64\n",
            " 13  Captain                  711 non-null    object \n",
            " 14  Short free kick          711 non-null    object \n",
            " 15  Long free kick           711 non-null    object \n",
            " 16  Left short free kick     711 non-null    object \n",
            " 17  Right short free kick    711 non-null    object \n",
            " 18  Penalties                709 non-null    object \n",
            " 19  Left corner              711 non-null    object \n",
            " 20  Right corner             710 non-null    object \n",
            "dtypes: float64(4), int64(5), object(12)\n",
            "memory usage: 116.8+ KB\n"
          ]
        }
      ],
      "source": [
        "df.info()"
      ]
    },
    {
      "cell_type": "markdown",
      "metadata": {
        "id": "2Jqd7EyjG_DL"
      },
      "source": [
        "Qua đó ta có thể thấy:\n",
        "\n",
        "* Dữ liệu có 712 dòng và 21 cột.\n",
        "\n",
        "* Các cột chứa các kiểu dữ liệu khác nhau: int64, float64, và object..."
      ]
    },
    {
      "cell_type": "markdown",
      "metadata": {
        "id": "8_2kCKiQD1HS"
      },
      "source": [
        "<b>Kết luận:</b> Các một số cột có kiểu dữ liệu không phù hợp để xử lý tiếp. Tuy nhiên, có thể cần chuyển đổi kiểu dữ liệu của một số cột để phù hợp hơn với các phép tính và xử lý dữ liệu, Ví dụ như chuyển đổi kiểu dữ liệu của cột \"Overall\" từ chuỗi sang số thực."
      ]
    },
    {
      "cell_type": "code",
      "execution_count": 17,
      "metadata": {
        "id": "he1bOBdPFlNH"
      },
      "outputs": [],
      "source": [
        "# Chuyển kiểu dữ liệu của các cột số thành kiểu số liên tục\n",
        "df['Overall'] = pd.to_numeric(df['Overall'], errors='coerce')\n",
        "df['Attack'] = pd.to_numeric(df['Attack'], errors='coerce')\n",
        "df['Defence'] = pd.to_numeric(df['Defence'], errors='coerce')\n",
        "df['Midfield'] = pd.to_numeric(df['Midfield'], errors='coerce')\n",
        "df['International prestige'] =  pd.to_numeric(df['International prestige'], errors='coerce')\n",
        "df['Domestic prestige'] = pd.to_numeric(df['Domestic prestige'], errors='coerce')\n",
        "df['Whole team average age'] = pd.to_numeric(df['Whole team average age'], errors='coerce')\n",
        "\n"
      ]
    },
    {
      "cell_type": "markdown",
      "metadata": {
        "id": "rXE1gAbVF5nZ"
      },
      "source": [
        "* Với mỗi cột, dữ liệu phân bố như thế nào? Để phân tích phân bố dữ liệu của từng cột, ta cần biểu diễn các giá trị trong cột dưới dạng biểu đồ phù hợp. Một số cách để thực hiện phân tích phân bố dữ liệu bao gồm sử dụng biểu đồ tần suất (histogram), biểu đồ hộp (box plot), hoặc biểu đồ phân phối xác suất (probability plot)... Ta cần chuyển đổi kiểu dữ liệu của các cột chứa dữ liệu số (int64 hoặc float64) sang kiểu dữ liệu số liên tục, sau đó sử dụng thư viện matplotlib để vẽ histogram. Với các cột chứa dữ liệu không phải số, ta có thể dùng biểu đồ bar chart để biểu diễn."
      ]
    },
    {
      "cell_type": "code",
      "execution_count": 18,
      "metadata": {
        "id": "tJZklabBE-HM",
        "colab": {
          "base_uri": "https://localhost:8080/",
          "height": 559
        },
        "outputId": "49aa6035-39a9-4a8e-e5e8-b813369cdc99"
      },
      "outputs": [
        {
          "output_type": "display_data",
          "data": {
            "text/plain": [
              "<Figure size 640x480 with 1 Axes>"
            ],
            "image/png": "[encoded data removed]"
          },
          "metadata": {}
        },
        {
          "output_type": "stream",
          "name": "stdout",
          "text": [
            "Minimum Overall value:  52\n",
            "Maximum Overall value:  85\n",
            "The most frequent range of values in the Overall column is: (60, 70]\n",
            "Most frequent value of Overall column: 69\n",
            "Number of occurrences of most frequent value in Overall column: 78\n"
          ]
        }
      ],
      "source": [
        "column_name = 'Overall'\n",
        "\n",
        "plt.hist(df[column_name], 100, edgecolor=\"black\")\n",
        "\n",
        "plt.xlabel(column_name + \" ratings\")\n",
        "plt.ylabel(\"Number of teams\")\n",
        "plt.title(\"Distribution of \" + column_name + \" Ratings\")\n",
        "\n",
        "value_min = df[column_name].min()\n",
        "value_max = df[column_name].max()\n",
        "\n",
        "# Divide the column into bins of width 10\n",
        "bins = pd.cut(df[column_name], bins=range(0, 101, 10))\n",
        "\n",
        "# Count the number of occurrences of each bin\n",
        "bin_counts = bins.value_counts()\n",
        "\n",
        "# Find the bin with the highest count\n",
        "most_frequent_bin = bin_counts.idxmax()\n",
        "\n",
        "most_frequent_value = df[column_name].mode()[0]\n",
        "\n",
        "num_occurrences = (df[column_name] == most_frequent_value).sum()\n",
        "\n",
        "plt.yticks(range(0, num_occurrences + 10, 10))\n",
        "\n",
        "plt.show()\n",
        "\n",
        "print(\"Minimum \" + column_name + \" value: \", value_min)\n",
        "print(\"Maximum \" + column_name + \" value: \", value_max)\n",
        "print(\"The most frequent range of values in the \" + column_name + \" column is:\", most_frequent_bin)\n",
        "print(\"Most frequent value of \" + column_name + \" column:\", most_frequent_value)\n",
        "print(\"Number of occurrences of most frequent value in \" + column_name + \" column:\", num_occurrences)\n"
      ]
    },
    {
      "cell_type": "code",
      "execution_count": 19,
      "metadata": {
        "id": "5V9LARXZJAiU",
        "colab": {
          "base_uri": "https://localhost:8080/",
          "height": 559
        },
        "outputId": "606fbd39-7e08-46e6-b8e5-029b7d90f614"
      },
      "outputs": [
        {
          "output_type": "display_data",
          "data": {
            "text/plain": [
              "<Figure size 640x480 with 1 Axes>"
            ],
            "image/png": "[encoded data removed]"
          },
          "metadata": {}
        },
        {
          "output_type": "stream",
          "name": "stdout",
          "text": [
            "Minimum Attack value:  52\n",
            "Maximum Attack value:  87\n",
            "The most frequent range of values in the Attack column is: (60, 70]\n",
            "Most frequent value of Attack column: 68\n",
            "Number of occurrences of most frequent value in Attack column: 67\n"
          ]
        }
      ],
      "source": [
        "column_name = 'Attack'\n",
        "\n",
        "plt.hist(df[column_name], 100, edgecolor=\"black\")\n",
        "\n",
        "plt.xlabel(column_name + \" ratings\")\n",
        "plt.ylabel(\"Number of teams\")\n",
        "plt.title(\"Distribution of \" + column_name + \" Ratings\")\n",
        "\n",
        "value_min = df[column_name].min()\n",
        "value_max = df[column_name].max()\n",
        "\n",
        "# Divide the column into bins of width 10\n",
        "bins = pd.cut(df[column_name], bins=range(0, 101, 10))\n",
        "\n",
        "# Count the number of occurrences of each bin\n",
        "bin_counts = bins.value_counts()\n",
        "\n",
        "# Find the bin with the highest count\n",
        "most_frequent_bin = bin_counts.idxmax()\n",
        "\n",
        "most_frequent_value = df[column_name].mode()[0]\n",
        "\n",
        "num_occurrences = (df[column_name] == most_frequent_value).sum()\n",
        "\n",
        "plt.yticks(range(0, num_occurrences + 10, 10))\n",
        "\n",
        "plt.show()\n",
        "\n",
        "print(\"Minimum \" + column_name + \" value: \", value_min)\n",
        "print(\"Maximum \" + column_name + \" value: \", value_max)\n",
        "print(\"The most frequent range of values in the \" + column_name + \" column is:\", most_frequent_bin)\n",
        "print(\"Most frequent value of \" + column_name + \" column:\", most_frequent_value)\n",
        "print(\"Number of occurrences of most frequent value in \" + column_name + \" column:\", num_occurrences)\n"
      ]
    },
    {
      "cell_type": "code",
      "execution_count": 20,
      "metadata": {
        "id": "OaloOpHAJW7v",
        "colab": {
          "base_uri": "https://localhost:8080/",
          "height": 559
        },
        "outputId": "3bf11452-e44d-4d62-97d7-6ca0c7167db6"
      },
      "outputs": [
        {
          "output_type": "display_data",
          "data": {
            "text/plain": [
              "<Figure size 640x480 with 1 Axes>"
            ],
            "image/png": "[encoded data removed]"
          },
          "metadata": {}
        },
        {
          "output_type": "stream",
          "name": "stdout",
          "text": [
            "Minimum Midfield value:  50\n",
            "Maximum Midfield value:  87\n",
            "The most frequent range of values in the Midfield column is: (64, 72]\n",
            "Most frequent value of Midfield column: 65\n",
            "Number of occurrences of most frequent value in Midfield column: 66\n"
          ]
        }
      ],
      "source": [
        "column_name = 'Midfield'\n",
        "\n",
        "plt.hist(df[column_name], 100, edgecolor=\"black\")\n",
        "\n",
        "plt.xlabel(column_name + \" ratings\")\n",
        "plt.ylabel(\"Number of teams\")\n",
        "plt.title(\"Distribution of \" + column_name + \" Ratings\")\n",
        "\n",
        "value_min = df[column_name].min()\n",
        "value_max = df[column_name].max()\n",
        "# Divide the column into bins of width 10\n",
        "bins = pd.cut(df[column_name], bins=range(0, int(value_max + value_min), int(value_max / 10) ))\n",
        "\n",
        "# Count the number of occurrences of each bin\n",
        "bin_counts = bins.value_counts()\n",
        "\n",
        "# Find the bin with the highest count\n",
        "most_frequent_bin = bin_counts.idxmax()\n",
        "\n",
        "most_frequent_value = df[column_name].mode()[0]\n",
        "\n",
        "num_occurrences = (df[column_name] == most_frequent_value).sum()\n",
        "\n",
        "plt.yticks(range(0, num_occurrences + 10, 10))\n",
        "\n",
        "plt.show()\n",
        "\n",
        "print(\"Minimum \" + column_name + \" value: \", value_min)\n",
        "print(\"Maximum \" + column_name + \" value: \", value_max)\n",
        "print(\"The most frequent range of values in the \" + column_name + \" column is:\", most_frequent_bin)\n",
        "print(\"Most frequent value of \" + column_name + \" column:\", most_frequent_value)\n",
        "print(\"Number of occurrences of most frequent value in \" + column_name + \" column:\", num_occurrences)\n"
      ]
    },
    {
      "cell_type": "code",
      "execution_count": 21,
      "metadata": {
        "id": "4RfL8LM0JdZU",
        "colab": {
          "base_uri": "https://localhost:8080/",
          "height": 559
        },
        "outputId": "8e0e7f96-0687-4d47-b1a8-0d15f507f86c"
      },
      "outputs": [
        {
          "output_type": "display_data",
          "data": {
            "text/plain": [
              "<Figure size 640x480 with 1 Axes>"
            ],
            "image/png": "[encoded data removed]"
          },
          "metadata": {}
        },
        {
          "output_type": "stream",
          "name": "stdout",
          "text": [
            "Minimum Defence value:  53\n",
            "Maximum Defence value:  84\n",
            "The most frequent range of values in the Defence column is: (64, 72]\n",
            "Most frequent value of Defence column: 69\n",
            "Number of occurrences of most frequent value in Defence column: 61\n"
          ]
        }
      ],
      "source": [
        "column_name = 'Defence'\n",
        "\n",
        "plt.hist(df[column_name], 100, edgecolor=\"black\")\n",
        "\n",
        "plt.xlabel(column_name + \" ratings\")\n",
        "plt.ylabel(\"Number of teams\")\n",
        "plt.title(\"Distribution of \" + column_name + \" Ratings\")\n",
        "\n",
        "value_min = df[column_name].min()\n",
        "value_max = df[column_name].max()\n",
        "# Divide the column into bins of width 10\n",
        "bins = pd.cut(df[column_name], bins=range(0, int(value_max + value_min), int(value_max / 10) ))\n",
        "\n",
        "# Count the number of occurrences of each bin\n",
        "bin_counts = bins.value_counts()\n",
        "\n",
        "# Find the bin with the highest count\n",
        "most_frequent_bin = bin_counts.idxmax()\n",
        "\n",
        "most_frequent_value = df[column_name].mode()[0]\n",
        "\n",
        "num_occurrences = (df[column_name] == most_frequent_value).sum()\n",
        "\n",
        "plt.yticks(range(0, num_occurrences + 10, 10))\n",
        "\n",
        "plt.show()\n",
        "\n",
        "print(\"Minimum \" + column_name + \" value: \", value_min)\n",
        "print(\"Maximum \" + column_name + \" value: \", value_max)\n",
        "print(\"The most frequent range of values in the \" + column_name + \" column is:\", most_frequent_bin)\n",
        "print(\"Most frequent value of \" + column_name + \" column:\", most_frequent_value)\n",
        "print(\"Number of occurrences of most frequent value in \" + column_name + \" column:\", num_occurrences)\n"
      ]
    },
    {
      "cell_type": "code",
      "execution_count": 22,
      "metadata": {
        "id": "SxgrUkkrJwCM",
        "colab": {
          "base_uri": "https://localhost:8080/",
          "height": 559
        },
        "outputId": "8715fe25-f69e-43bf-fe9a-4cdf773ad5e0"
      },
      "outputs": [
        {
          "output_type": "display_data",
          "data": {
            "text/plain": [
              "<Figure size 640x480 with 1 Axes>"
            ],
            "image/png": "[encoded data removed]"
          },
          "metadata": {}
        },
        {
          "output_type": "stream",
          "name": "stdout",
          "text": [
            "Minimum International prestige value:  1\n",
            "Maximum International prestige value:  10\n",
            "The most frequent range of values in the International prestige column is: (0, 1]\n",
            "Most frequent value of International prestige column: 1\n",
            "Number of occurrences of most frequent value in International prestige column: 350\n"
          ]
        }
      ],
      "source": [
        "column_name = 'International prestige'\n",
        "\n",
        "plt.hist(df[column_name], 100, edgecolor=\"black\")\n",
        "\n",
        "plt.xlabel(column_name + \" ratings\")\n",
        "plt.ylabel(\"Number of teams\")\n",
        "plt.title(\"Distribution of \" + column_name + \" Ratings\")\n",
        "\n",
        "value_min = df[column_name].min()\n",
        "value_max = df[column_name].max()\n",
        "# Divide the column into bins of width 10\n",
        "bins = pd.cut(df[column_name], bins=range(0, int(value_max + value_min), int(value_max / 10) ))\n",
        "\n",
        "# Count the number of occurrences of each bin\n",
        "bin_counts = bins.value_counts()\n",
        "\n",
        "# Find the bin with the highest count\n",
        "most_frequent_bin = bin_counts.idxmax()\n",
        "\n",
        "most_frequent_value = df[column_name].mode()[0]\n",
        "\n",
        "num_occurrences = (df[column_name] == most_frequent_value).sum()\n",
        "\n",
        "plt.yticks(range(0, num_occurrences + 25, 25))\n",
        "\n",
        "plt.show()\n",
        "\n",
        "print(\"Minimum \" + column_name + \" value: \", value_min)\n",
        "print(\"Maximum \" + column_name + \" value: \", value_max)\n",
        "print(\"The most frequent range of values in the \" + column_name + \" column is:\", most_frequent_bin)\n",
        "print(\"Most frequent value of \" + column_name + \" column:\", most_frequent_value)\n",
        "print(\"Number of occurrences of most frequent value in \" + column_name + \" column:\", num_occurrences)\n",
        "\n"
      ]
    },
    {
      "cell_type": "code",
      "execution_count": 25,
      "metadata": {
        "id": "Q8TrT4YgJ7iQ",
        "colab": {
          "base_uri": "https://localhost:8080/",
          "height": 559
        },
        "outputId": "e1c17dfd-f6f6-4b00-8566-6991828857da"
      },
      "outputs": [
        {
          "output_type": "display_data",
          "data": {
            "text/plain": [
              "<Figure size 640x480 with 1 Axes>"
            ],
            "image/png": "[encoded data removed]"
          },
          "metadata": {}
        },
        {
          "output_type": "stream",
          "name": "stdout",
          "text": [
            "Minimum Domestic prestige value:  1.0\n",
            "Maximum Domestic prestige value:  10.0\n",
            "The most frequent range of values in the Domestic prestige column is: (5, 6]\n",
            "Most frequent value of Domestic prestige column: 6.0\n",
            "Number of occurrences of most frequent value in Domestic prestige column: 77\n"
          ]
        }
      ],
      "source": [
        "column_name = 'Domestic prestige'\n",
        "\n",
        "plt.hist(df[column_name], 100, edgecolor=\"black\")\n",
        "\n",
        "plt.xlabel(column_name + \" ratings\")\n",
        "plt.ylabel(\"Number of teams\")\n",
        "plt.title(\"Distribution of \" + column_name + \" Ratings\")\n",
        "\n",
        "value_min = df[column_name].min()\n",
        "value_max = df[column_name].max()\n",
        "\n",
        "# Divide the column into bins of width 10\n",
        "bins = pd.cut(df[column_name], bins=range(0, int(value_max + value_min), int(value_max / 10) ))\n",
        "\n",
        "# Count the number of occurrences of each bin\n",
        "bin_counts = bins.value_counts()\n",
        "\n",
        "# Find the bin with the highest count\n",
        "most_frequent_bin = bin_counts.idxmax()\n",
        "\n",
        "most_frequent_value = df[column_name].mode()[0]\n",
        "\n",
        "num_occurrences = (df[column_name] == most_frequent_value).sum()\n",
        "\n",
        "plt.yticks(range(0, num_occurrences + 10, 10))\n",
        "\n",
        "plt.show()\n",
        "\n",
        "print(\"Minimum \" + column_name + \" value: \", value_min)\n",
        "print(\"Maximum \" + column_name + \" value: \", value_max)\n",
        "print(\"The most frequent range of values in the \" + column_name + \" column is:\", most_frequent_bin)\n",
        "print(\"Most frequent value of \" + column_name + \" column:\", most_frequent_value)\n",
        "print(\"Number of occurrences of most frequent value in \" + column_name + \" column:\", num_occurrences)\n",
        "\n"
      ]
    },
    {
      "cell_type": "code",
      "execution_count": 24,
      "metadata": {
        "id": "NMRA3vIEKCng",
        "colab": {
          "base_uri": "https://localhost:8080/",
          "height": 559
        },
        "outputId": "0e8ba88e-72bb-44b7-d4d9-f3f7aa58c322"
      },
      "outputs": [
        {
          "output_type": "display_data",
          "data": {
            "text/plain": [
              "<Figure size 640x480 with 1 Axes>"
            ],
            "image/png": "[encoded data removed]"
          },
          "metadata": {}
        },
        {
          "output_type": "stream",
          "name": "stdout",
          "text": [
            "Minimum Whole team average age value:  19.86\n",
            "Maximum Whole team average age value:  29.8\n",
            "The most frequent range of values in the Whole team average age column is: (20, 30]\n",
            "Most frequent value of Whole team average age column: 25.07\n",
            "Number of occurrences of most frequent value in Whole team average age column: 9\n"
          ]
        }
      ],
      "source": [
        "column_name = \"Whole team average age\"\n",
        "\n",
        "plt.hist(df[column_name], 100, edgecolor=\"black\")\n",
        "\n",
        "plt.xlabel(column_name + \" ratings\")\n",
        "plt.ylabel(\"Number of teams\")\n",
        "plt.title(\"Distribution of \" + column_name + \" Ratings\")\n",
        "\n",
        "value_min = df[column_name].min()\n",
        "value_max = df[column_name].max()\n",
        "\n",
        "# Divide the column into bins of width 10\n",
        "bins = pd.cut(df[column_name], bins=range(0, 101, 10))\n",
        "\n",
        "# Count the number of occurrences of each bin\n",
        "bin_counts = bins.value_counts()\n",
        "\n",
        "# Find the bin with the highest count\n",
        "most_frequent_bin = bin_counts.idxmax()\n",
        "\n",
        "most_frequent_value = df[column_name].mode()[0]\n",
        "\n",
        "num_occurrences = (df[column_name] == most_frequent_value).sum()\n",
        "\n",
        "plt.yticks(range(0, num_occurrences + 10, 10))\n",
        "\n",
        "plt.show()\n",
        "\n",
        "print(\"Minimum \" + column_name + \" value: \", value_min)\n",
        "print(\"Maximum \" + column_name + \" value: \", value_max)\n",
        "print(\"The most frequent range of values in the \" + column_name + \" column is:\", most_frequent_bin)\n",
        "print(\"Most frequent value of \" + column_name + \" column:\", most_frequent_value)\n",
        "print(\"Number of occurrences of most frequent value in \" + column_name + \" column:\", num_occurrences)\n",
        "\n"
      ]
    },
    {
      "cell_type": "markdown",
      "metadata": {
        "id": "8s_016O1InOV"
      },
      "source": [
        "Ví dụ về cách vẽ biểu đồ bar chart cho các cột không phải số của dataframe:\n",
        "\n"
      ]
    },
    {
      "cell_type": "code",
      "execution_count": 26,
      "metadata": {
        "id": "owAaDIa8IleX",
        "colab": {
          "base_uri": "https://localhost:8080/",
          "height": 515
        },
        "outputId": "62c72715-e6de-4748-dab1-e5bd6fd081a3"
      },
      "outputs": [
        {
          "output_type": "display_data",
          "data": {
            "text/plain": [
              "<Figure size 640x480 with 1 Axes>"
            ],
            "image/png": "[encoded data removed]"
          },
          "metadata": {}
        },
        {
          "output_type": "stream",
          "name": "stdout",
          "text": [
            "Minimum League value:  [Argentina] Liga Profesional\n",
            "Maximum League value:  [World] Friendly International\n",
            "The most frequent range of values in the League column is: (5, 6]\n",
            "Most frequent value of League column: 6.0\n",
            "Number of occurrences of most frequent value in League column: 77\n"
          ]
        }
      ],
      "source": [
        "column_name = 'League'\n",
        "\n",
        "# plt.hist(df[column_name], 100, edgecolor=\"black\")\n",
        "\n",
        "# plt.xlabel(column_name + \" ratings\")\n",
        "# plt.ylabel(\"Number of teams\")\n",
        "# plt.title(\"Distribution of \" + column_name + \" Ratings\")\n",
        "\n",
        "value_min = df[column_name].min()\n",
        "value_max = df[column_name].max()\n",
        "\n",
        "df_filtered = df[df['Overall'] >= 80]\n",
        "\n",
        "# Count the number of occurrences of each bin\n",
        "value_counts = df_filtered['League'].value_counts()\n",
        "\n",
        "# Vẽ biểu đồ tròn\n",
        "plt.pie(value_counts.values,autopct='',labels = value_counts.index)\n",
        "plt.title(\"Distribution of \" + column_name + \" ratings of Teams has Overall ratings equal than 80.\")\n",
        "plt.show()\n",
        "\n",
        "# # Find the bin with the highest count\n",
        "# most_frequent_bin = bin_counts.idxmax()\n",
        "\n",
        "# most_frequent_value = df[column_name].mode()[0]\n",
        "\n",
        "# num_occurrences = (df[column_name] == most_frequent_value).sum()\n",
        "\n",
        "# plt.yticks(range(0, num_occurrences + 10, 10))\n",
        "\n",
        "# plt.show()\n",
        "\n",
        "print(\"Minimum \" + column_name + \" value: \", value_min)\n",
        "print(\"Maximum \" + column_name + \" value: \", value_max)\n",
        "print(\"The most frequent range of values in the \" + column_name + \" column is:\", most_frequent_bin)\n",
        "print(\"Most frequent value of \" + column_name + \" column:\", most_frequent_value)\n",
        "print(\"Number of occurrences of most frequent value in \" + column_name + \" column:\", num_occurrences)\n",
        "\n",
        "\n"
      ]
    },
    {
      "cell_type": "markdown",
      "metadata": {
        "id": "BSf3hA0O1OwE"
      },
      "source": [
        "* Nhận xét: Trong 100 đội bóng thì có 11 đội bóng tham gia giải Spain Laliga"
      ]
    },
    {
      "cell_type": "markdown",
      "metadata": {
        "id": "GaZWQTBeLNMP"
      },
      "source": [
        "## C. Đặt các câu hỏi có ý nghĩa cần trả lời\n",
        "\n",
        "### 5 câu hỏi mà nhóm trả lời bằng dữ liệu nêu trên:\n",
        "\n",
        "**Câu hỏi 1:** Các đội bóng nào có trung bình tuổi cao nhất và thấp nhất?\n",
        ">Ý nghĩa: câu hỏi này sẽ giúp phân tích đội hình của các đội bóng có tuổi trung bình cao và thấp, từ đó đánh giá khả năng cạnh tranh, phong độ, kinh nghiệm của đội bóng đó."
      ]
    },
    {
      "cell_type": "code",
      "source": [
        "top_10_max = df.nlargest(10, 'Whole team average age')[['Name', 'Whole team average age']]\n",
        "top_10_min = df.nsmallest(10, 'Whole team average age')[['Name', 'Whole team average age']]\n",
        "\n",
        "display(top_10_max.rename(columns={'Name': 'Các đội bóng nào có trung bình tuổi cao nhất'}))\n",
        "display(top_10_min.rename(columns={'Name': 'Các đội bóng nào có trung bình tuổi thấp nhất'}))"
      ],
      "metadata": {
        "colab": {
          "base_uri": "https://localhost:8080/",
          "height": 709
        },
        "id": "c00y7HTFRuCf",
        "outputId": "ce02db11-0a86-4396-de6a-fd2ddef747eb"
      },
      "execution_count": 80,
      "outputs": [
        {
          "output_type": "display_data",
          "data": {
            "text/plain": [
              "    Các đội bóng nào có trung bình tuổi cao nhất  Whole team average age\n",
              "414                              América Mineiro                   29.80\n",
              "504                                        Suwon                   29.14\n",
              "237                                    São Paulo                   29.00\n",
              "274                                    Palmeiras                   28.60\n",
              "0                               Shandong Taishan                   28.39\n",
              "603                            Chengdu Rongcheng                   28.29\n",
              "503                                     Al Feiha                   28.17\n",
              "442                                        Ulsan                   28.14\n",
              "191                                        Aucas                   28.13\n",
              "13                                 Shanghai Port                   28.11"
            ],
            "text/html": [
              "\n",
              "  <div id=\"df-17708dfa-a783-44e3-b8f6-23027bcd8607\">\n",
              "    <div class=\"colab-df-container\">\n",
              "      <div>\n",
              "<style scoped>\n",
              "    .dataframe tbody tr th:only-of-type {\n",
              "        vertical-align: middle;\n",
              "    }\n",
              "\n",
              "    .dataframe tbody tr th {\n",
              "        vertical-align: top;\n",
              "    }\n",
              "\n",
              "    .dataframe thead th {\n",
              "        text-align: right;\n",
              "    }\n",
              "</style>\n",
              "<table border=\"1\" class=\"dataframe\">\n",
              "  <thead>\n",
              "    <tr style=\"text-align: right;\">\n",
              "      <th></th>\n",
              "      <th>Các đội bóng nào có trung bình tuổi cao nhất</th>\n",
              "      <th>Whole team average age</th>\n",
              "    </tr>\n",
              "  </thead>\n",
              "  <tbody>\n",
              "    <tr>\n",
              "      <th>414</th>\n",
              "      <td>América Mineiro</td>\n",
              "      <td>29.80</td>\n",
              "    </tr>\n",
              "    <tr>\n",
              "      <th>504</th>\n",
              "      <td>Suwon</td>\n",
              "      <td>29.14</td>\n",
              "    </tr>\n",
              "    <tr>\n",
              "      <th>237</th>\n",
              "      <td>São Paulo</td>\n",
              "      <td>29.00</td>\n",
              "    </tr>\n",
              "    <tr>\n",
              "      <th>274</th>\n",
              "      <td>Palmeiras</td>\n",
              "      <td>28.60</td>\n",
              "    </tr>\n",
              "    <tr>\n",
              "      <th>0</th>\n",
              "      <td>Shandong Taishan</td>\n",
              "      <td>28.39</td>\n",
              "    </tr>\n",
              "    <tr>\n",
              "      <th>603</th>\n",
              "      <td>Chengdu Rongcheng</td>\n",
              "      <td>28.29</td>\n",
              "    </tr>\n",
              "    <tr>\n",
              "      <th>503</th>\n",
              "      <td>Al Feiha</td>\n",
              "      <td>28.17</td>\n",
              "    </tr>\n",
              "    <tr>\n",
              "      <th>442</th>\n",
              "      <td>Ulsan</td>\n",
              "      <td>28.14</td>\n",
              "    </tr>\n",
              "    <tr>\n",
              "      <th>191</th>\n",
              "      <td>Aucas</td>\n",
              "      <td>28.13</td>\n",
              "    </tr>\n",
              "    <tr>\n",
              "      <th>13</th>\n",
              "      <td>Shanghai Port</td>\n",
              "      <td>28.11</td>\n",
              "    </tr>\n",
              "  </tbody>\n",
              "</table>\n",
              "</div>\n",
              "      <button class=\"colab-df-convert\" onclick=\"convertToInteractive('df-17708dfa-a783-44e3-b8f6-23027bcd8607')\"\n",
              "              title=\"Convert this dataframe to an interactive table.\"\n",
              "              style=\"display:none;\">\n",
              "        \n",
              "  <svg xmlns=\"http://www.w3.org/2000/svg\" height=\"24px\"viewBox=\"0 0 24 24\"\n",
              "       width=\"24px\">\n",
              "    <path d=\"M0 0h24v24H0V0z\" fill=\"none\"/>\n",
              "    <path d=\"M18.56 5.44l.94 2.06.94-2.06 2.06-.94-2.06-.94-.94-2.06-.94 2.06-2.06.94zm-11 1L8.5 8.5l.94-2.06 2.06-.94-2.06-.94L8.5 2.5l-.94 2.06-2.06.94zm10 10l.94 2.06.94-2.06 2.06-.94-2.06-.94-.94-2.06-.94 2.06-2.06.94z\"/><path d=\"M17.41 7.96l-1.37-1.37c-.4-.4-.92-.59-1.43-.59-.52 0-1.04.2-1.43.59L10.3 9.45l-7.72 7.72c-.78.78-.78 2.05 0 2.83L4 21.41c.39.39.9.59 1.41.59.51 0 1.02-.2 1.41-.59l7.78-7.78 2.81-2.81c.8-.78.8-2.07 0-2.86zM5.41 20L4 18.59l7.72-7.72 1.47 1.35L5.41 20z\"/>\n",
              "  </svg>\n",
              "      </button>\n",
              "      \n",
              "  <style>\n",
              "    .colab-df-container {\n",
              "      display:flex;\n",
              "      flex-wrap:wrap;\n",
              "      gap: 12px;\n",
              "    }\n",
              "\n",
              "    .colab-df-convert {\n",
              "      background-color: #E8F0FE;\n",
              "      border: none;\n",
              "      border-radius: 50%;\n",
              "      cursor: pointer;\n",
              "      display: none;\n",
              "      fill: #1967D2;\n",
              "      height: 32px;\n",
              "      padding: 0 0 0 0;\n",
              "      width: 32px;\n",
              "    }\n",
              "\n",
              "    .colab-df-convert:hover {\n",
              "      background-color: #E2EBFA;\n",
              "      box-shadow: 0px 1px 2px rgba(60, 64, 67, 0.3), 0px 1px 3px 1px rgba(60, 64, 67, 0.15);\n",
              "      fill: #174EA6;\n",
              "    }\n",
              "\n",
              "    [theme=dark] .colab-df-convert {\n",
              "      background-color: #3B4455;\n",
              "      fill: #D2E3FC;\n",
              "    }\n",
              "\n",
              "    [theme=dark] .colab-df-convert:hover {\n",
              "      background-color: #434B5C;\n",
              "      box-shadow: 0px 1px 3px 1px rgba(0, 0, 0, 0.15);\n",
              "      filter: drop-shadow(0px 1px 2px rgba(0, 0, 0, 0.3));\n",
              "      fill: #FFFFFF;\n",
              "    }\n",
              "  </style>\n",
              "\n",
              "      <script>\n",
              "        const buttonEl =\n",
              "          document.querySelector('#df-17708dfa-a783-44e3-b8f6-23027bcd8607 button.colab-df-convert');\n",
              "        buttonEl.style.display =\n",
              "          google.colab.kernel.accessAllowed ? 'block' : 'none';\n",
              "\n",
              "        async function convertToInteractive(key) {\n",
              "          const element = document.querySelector('#df-17708dfa-a783-44e3-b8f6-23027bcd8607');\n",
              "          const dataTable =\n",
              "            await google.colab.kernel.invokeFunction('convertToInteractive',\n",
              "                                                     [key], {});\n",
              "          if (!dataTable) return;\n",
              "\n",
              "          const docLinkHtml = 'Like what you see? Visit the ' +\n",
              "            '<a target=\"_blank\" href=https://colab.research.google.com/notebooks/data_table.ipynb>data table notebook</a>'\n",
              "            + ' to learn more about interactive tables.';\n",
              "          element.innerHTML = '';\n",
              "          dataTable['output_type'] = 'display_data';\n",
              "          await google.colab.output.renderOutput(dataTable, element);\n",
              "          const docLink = document.createElement('div');\n",
              "          docLink.innerHTML = docLinkHtml;\n",
              "          element.appendChild(docLink);\n",
              "        }\n",
              "      </script>\n",
              "    </div>\n",
              "  </div>\n",
              "  "
            ]
          },
          "metadata": {}
        },
        {
          "output_type": "display_data",
          "data": {
            "text/plain": [
              "    Các đội bóng nào có trung bình tuổi thấp nhất  Whole team average age\n",
              "709                                           UCD                   19.86\n",
              "594                                   Freiburg II                   20.57\n",
              "403                                  Nordsjælland                   21.08\n",
              "662                               Drogheda United                   21.14\n",
              "592                          Borussia Dortmund II                   21.29\n",
              "430                                 Villarreal II                   21.41\n",
              "58                                       Bordeaux                   21.46\n",
              "656                                    Shelbourne                   21.54\n",
              "340                                      Salzburg                   21.68\n",
              "249                                          Genk                   21.75"
            ],
            "text/html": [
              "\n",
              "  <div id=\"df-3200a0c7-7eb8-45d2-aea3-ccfde4e3b2a2\">\n",
              "    <div class=\"colab-df-container\">\n",
              "      <div>\n",
              "<style scoped>\n",
              "    .dataframe tbody tr th:only-of-type {\n",
              "        vertical-align: middle;\n",
              "    }\n",
              "\n",
              "    .dataframe tbody tr th {\n",
              "        vertical-align: top;\n",
              "    }\n",
              "\n",
              "    .dataframe thead th {\n",
              "        text-align: right;\n",
              "    }\n",
              "</style>\n",
              "<table border=\"1\" class=\"dataframe\">\n",
              "  <thead>\n",
              "    <tr style=\"text-align: right;\">\n",
              "      <th></th>\n",
              "      <th>Các đội bóng nào có trung bình tuổi thấp nhất</th>\n",
              "      <th>Whole team average age</th>\n",
              "    </tr>\n",
              "  </thead>\n",
              "  <tbody>\n",
              "    <tr>\n",
              "      <th>709</th>\n",
              "      <td>UCD</td>\n",
              "      <td>19.86</td>\n",
              "    </tr>\n",
              "    <tr>\n",
              "      <th>594</th>\n",
              "      <td>Freiburg II</td>\n",
              "      <td>20.57</td>\n",
              "    </tr>\n",
              "    <tr>\n",
              "      <th>403</th>\n",
              "      <td>Nordsjælland</td>\n",
              "      <td>21.08</td>\n",
              "    </tr>\n",
              "    <tr>\n",
              "      <th>662</th>\n",
              "      <td>Drogheda United</td>\n",
              "      <td>21.14</td>\n",
              "    </tr>\n",
              "    <tr>\n",
              "      <th>592</th>\n",
              "      <td>Borussia Dortmund II</td>\n",
              "      <td>21.29</td>\n",
              "    </tr>\n",
              "    <tr>\n",
              "      <th>430</th>\n",
              "      <td>Villarreal II</td>\n",
              "      <td>21.41</td>\n",
              "    </tr>\n",
              "    <tr>\n",
              "      <th>58</th>\n",
              "      <td>Bordeaux</td>\n",
              "      <td>21.46</td>\n",
              "    </tr>\n",
              "    <tr>\n",
              "      <th>656</th>\n",
              "      <td>Shelbourne</td>\n",
              "      <td>21.54</td>\n",
              "    </tr>\n",
              "    <tr>\n",
              "      <th>340</th>\n",
              "      <td>Salzburg</td>\n",
              "      <td>21.68</td>\n",
              "    </tr>\n",
              "    <tr>\n",
              "      <th>249</th>\n",
              "      <td>Genk</td>\n",
              "      <td>21.75</td>\n",
              "    </tr>\n",
              "  </tbody>\n",
              "</table>\n",
              "</div>\n",
              "      <button class=\"colab-df-convert\" onclick=\"convertToInteractive('df-3200a0c7-7eb8-45d2-aea3-ccfde4e3b2a2')\"\n",
              "              title=\"Convert this dataframe to an interactive table.\"\n",
              "              style=\"display:none;\">\n",
              "        \n",
              "  <svg xmlns=\"http://www.w3.org/2000/svg\" height=\"24px\"viewBox=\"0 0 24 24\"\n",
              "       width=\"24px\">\n",
              "    <path d=\"M0 0h24v24H0V0z\" fill=\"none\"/>\n",
              "    <path d=\"M18.56 5.44l.94 2.06.94-2.06 2.06-.94-2.06-.94-.94-2.06-.94 2.06-2.06.94zm-11 1L8.5 8.5l.94-2.06 2.06-.94-2.06-.94L8.5 2.5l-.94 2.06-2.06.94zm10 10l.94 2.06.94-2.06 2.06-.94-2.06-.94-.94-2.06-.94 2.06-2.06.94z\"/><path d=\"M17.41 7.96l-1.37-1.37c-.4-.4-.92-.59-1.43-.59-.52 0-1.04.2-1.43.59L10.3 9.45l-7.72 7.72c-.78.78-.78 2.05 0 2.83L4 21.41c.39.39.9.59 1.41.59.51 0 1.02-.2 1.41-.59l7.78-7.78 2.81-2.81c.8-.78.8-2.07 0-2.86zM5.41 20L4 18.59l7.72-7.72 1.47 1.35L5.41 20z\"/>\n",
              "  </svg>\n",
              "      </button>\n",
              "      \n",
              "  <style>\n",
              "    .colab-df-container {\n",
              "      display:flex;\n",
              "      flex-wrap:wrap;\n",
              "      gap: 12px;\n",
              "    }\n",
              "\n",
              "    .colab-df-convert {\n",
              "      background-color: #E8F0FE;\n",
              "      border: none;\n",
              "      border-radius: 50%;\n",
              "      cursor: pointer;\n",
              "      display: none;\n",
              "      fill: #1967D2;\n",
              "      height: 32px;\n",
              "      padding: 0 0 0 0;\n",
              "      width: 32px;\n",
              "    }\n",
              "\n",
              "    .colab-df-convert:hover {\n",
              "      background-color: #E2EBFA;\n",
              "      box-shadow: 0px 1px 2px rgba(60, 64, 67, 0.3), 0px 1px 3px 1px rgba(60, 64, 67, 0.15);\n",
              "      fill: #174EA6;\n",
              "    }\n",
              "\n",
              "    [theme=dark] .colab-df-convert {\n",
              "      background-color: #3B4455;\n",
              "      fill: #D2E3FC;\n",
              "    }\n",
              "\n",
              "    [theme=dark] .colab-df-convert:hover {\n",
              "      background-color: #434B5C;\n",
              "      box-shadow: 0px 1px 3px 1px rgba(0, 0, 0, 0.15);\n",
              "      filter: drop-shadow(0px 1px 2px rgba(0, 0, 0, 0.3));\n",
              "      fill: #FFFFFF;\n",
              "    }\n",
              "  </style>\n",
              "\n",
              "      <script>\n",
              "        const buttonEl =\n",
              "          document.querySelector('#df-3200a0c7-7eb8-45d2-aea3-ccfde4e3b2a2 button.colab-df-convert');\n",
              "        buttonEl.style.display =\n",
              "          google.colab.kernel.accessAllowed ? 'block' : 'none';\n",
              "\n",
              "        async function convertToInteractive(key) {\n",
              "          const element = document.querySelector('#df-3200a0c7-7eb8-45d2-aea3-ccfde4e3b2a2');\n",
              "          const dataTable =\n",
              "            await google.colab.kernel.invokeFunction('convertToInteractive',\n",
              "                                                     [key], {});\n",
              "          if (!dataTable) return;\n",
              "\n",
              "          const docLinkHtml = 'Like what you see? Visit the ' +\n",
              "            '<a target=\"_blank\" href=https://colab.research.google.com/notebooks/data_table.ipynb>data table notebook</a>'\n",
              "            + ' to learn more about interactive tables.';\n",
              "          element.innerHTML = '';\n",
              "          dataTable['output_type'] = 'display_data';\n",
              "          await google.colab.output.renderOutput(dataTable, element);\n",
              "          const docLink = document.createElement('div');\n",
              "          docLink.innerHTML = docLinkHtml;\n",
              "          element.appendChild(docLink);\n",
              "        }\n",
              "      </script>\n",
              "    </div>\n",
              "  </div>\n",
              "  "
            ]
          },
          "metadata": {}
        }
      ]
    },
    {
      "cell_type": "markdown",
      "source": [
        "\n",
        "**Câu hỏi 2:** Đội bóng nào có Overall cao nhất trong danh sách?\n",
        ">Ý nghĩa: Câu hỏi này giúp tìm ra đội bóng có Overall cao nhất trong danh sách, từ đó đánh giá mức độ mạnh yếu của các đội bóng trong danh sách."
      ],
      "metadata": {
        "id": "GCVTYjRTXZzD"
      }
    },
    {
      "cell_type": "code",
      "source": [
        "top_1_max = df.nlargest(1, ['Overall'])[['Name', 'Overall']]\n",
        "display(top_1_max.rename(columns={'Name': 'Đội bóng có Overall cao nhất trong danh sách'}))"
      ],
      "metadata": {
        "colab": {
          "base_uri": "https://localhost:8080/",
          "height": 81
        },
        "id": "bvMfs27-XbsH",
        "outputId": "0a33382f-582e-4ac3-9ce8-620ff074e19b"
      },
      "execution_count": 79,
      "outputs": [
        {
          "output_type": "display_data",
          "data": {
            "text/plain": [
              "   Đội bóng có Overall cao nhất trong danh sách  Overall\n",
              "60                              Manchester City       85"
            ],
            "text/html": [
              "\n",
              "  <div id=\"df-450c551c-f25d-4f83-bc8a-723456209415\">\n",
              "    <div class=\"colab-df-container\">\n",
              "      <div>\n",
              "<style scoped>\n",
              "    .dataframe tbody tr th:only-of-type {\n",
              "        vertical-align: middle;\n",
              "    }\n",
              "\n",
              "    .dataframe tbody tr th {\n",
              "        vertical-align: top;\n",
              "    }\n",
              "\n",
              "    .dataframe thead th {\n",
              "        text-align: right;\n",
              "    }\n",
              "</style>\n",
              "<table border=\"1\" class=\"dataframe\">\n",
              "  <thead>\n",
              "    <tr style=\"text-align: right;\">\n",
              "      <th></th>\n",
              "      <th>Đội bóng có Overall cao nhất trong danh sách</th>\n",
              "      <th>Overall</th>\n",
              "    </tr>\n",
              "  </thead>\n",
              "  <tbody>\n",
              "    <tr>\n",
              "      <th>60</th>\n",
              "      <td>Manchester City</td>\n",
              "      <td>85</td>\n",
              "    </tr>\n",
              "  </tbody>\n",
              "</table>\n",
              "</div>\n",
              "      <button class=\"colab-df-convert\" onclick=\"convertToInteractive('df-450c551c-f25d-4f83-bc8a-723456209415')\"\n",
              "              title=\"Convert this dataframe to an interactive table.\"\n",
              "              style=\"display:none;\">\n",
              "        \n",
              "  <svg xmlns=\"http://www.w3.org/2000/svg\" height=\"24px\"viewBox=\"0 0 24 24\"\n",
              "       width=\"24px\">\n",
              "    <path d=\"M0 0h24v24H0V0z\" fill=\"none\"/>\n",
              "    <path d=\"M18.56 5.44l.94 2.06.94-2.06 2.06-.94-2.06-.94-.94-2.06-.94 2.06-2.06.94zm-11 1L8.5 8.5l.94-2.06 2.06-.94-2.06-.94L8.5 2.5l-.94 2.06-2.06.94zm10 10l.94 2.06.94-2.06 2.06-.94-2.06-.94-.94-2.06-.94 2.06-2.06.94z\"/><path d=\"M17.41 7.96l-1.37-1.37c-.4-.4-.92-.59-1.43-.59-.52 0-1.04.2-1.43.59L10.3 9.45l-7.72 7.72c-.78.78-.78 2.05 0 2.83L4 21.41c.39.39.9.59 1.41.59.51 0 1.02-.2 1.41-.59l7.78-7.78 2.81-2.81c.8-.78.8-2.07 0-2.86zM5.41 20L4 18.59l7.72-7.72 1.47 1.35L5.41 20z\"/>\n",
              "  </svg>\n",
              "      </button>\n",
              "      \n",
              "  <style>\n",
              "    .colab-df-container {\n",
              "      display:flex;\n",
              "      flex-wrap:wrap;\n",
              "      gap: 12px;\n",
              "    }\n",
              "\n",
              "    .colab-df-convert {\n",
              "      background-color: #E8F0FE;\n",
              "      border: none;\n",
              "      border-radius: 50%;\n",
              "      cursor: pointer;\n",
              "      display: none;\n",
              "      fill: #1967D2;\n",
              "      height: 32px;\n",
              "      padding: 0 0 0 0;\n",
              "      width: 32px;\n",
              "    }\n",
              "\n",
              "    .colab-df-convert:hover {\n",
              "      background-color: #E2EBFA;\n",
              "      box-shadow: 0px 1px 2px rgba(60, 64, 67, 0.3), 0px 1px 3px 1px rgba(60, 64, 67, 0.15);\n",
              "      fill: #174EA6;\n",
              "    }\n",
              "\n",
              "    [theme=dark] .colab-df-convert {\n",
              "      background-color: #3B4455;\n",
              "      fill: #D2E3FC;\n",
              "    }\n",
              "\n",
              "    [theme=dark] .colab-df-convert:hover {\n",
              "      background-color: #434B5C;\n",
              "      box-shadow: 0px 1px 3px 1px rgba(0, 0, 0, 0.15);\n",
              "      filter: drop-shadow(0px 1px 2px rgba(0, 0, 0, 0.3));\n",
              "      fill: #FFFFFF;\n",
              "    }\n",
              "  </style>\n",
              "\n",
              "      <script>\n",
              "        const buttonEl =\n",
              "          document.querySelector('#df-450c551c-f25d-4f83-bc8a-723456209415 button.colab-df-convert');\n",
              "        buttonEl.style.display =\n",
              "          google.colab.kernel.accessAllowed ? 'block' : 'none';\n",
              "\n",
              "        async function convertToInteractive(key) {\n",
              "          const element = document.querySelector('#df-450c551c-f25d-4f83-bc8a-723456209415');\n",
              "          const dataTable =\n",
              "            await google.colab.kernel.invokeFunction('convertToInteractive',\n",
              "                                                     [key], {});\n",
              "          if (!dataTable) return;\n",
              "\n",
              "          const docLinkHtml = 'Like what you see? Visit the ' +\n",
              "            '<a target=\"_blank\" href=https://colab.research.google.com/notebooks/data_table.ipynb>data table notebook</a>'\n",
              "            + ' to learn more about interactive tables.';\n",
              "          element.innerHTML = '';\n",
              "          dataTable['output_type'] = 'display_data';\n",
              "          await google.colab.output.renderOutput(dataTable, element);\n",
              "          const docLink = document.createElement('div');\n",
              "          docLink.innerHTML = docLinkHtml;\n",
              "          element.appendChild(docLink);\n",
              "        }\n",
              "      </script>\n",
              "    </div>\n",
              "  </div>\n",
              "  "
            ]
          },
          "metadata": {}
        }
      ]
    },
    {
      "cell_type": "markdown",
      "source": [
        "\n",
        "**Câu hỏi 3:** Đội bóng nào có Attack cao nhất trong danh sách?\n",
        "> Ý nghĩa: Câu hỏi này giúp tìm ra đội bóng có chỉ số tấn công (Attack) cao nhất trong danh sách, từ đó đánh giá sức mạnh tấn công của các đội bóng.\n"
      ],
      "metadata": {
        "id": "IKKZ04g7Yd25"
      }
    },
    {
      "cell_type": "code",
      "source": [
        "top_1_max = df.nlargest(1, ['Attack'])[['Name','Attack']]\n",
        "display(top_1_max.rename(columns={'Name': 'Đội bóng có Attack cao nhất trong danh sách'}))"
      ],
      "metadata": {
        "colab": {
          "base_uri": "https://localhost:8080/",
          "height": 81
        },
        "id": "Qs6qDXzwaF-J",
        "outputId": "701f8827-5b70-4fd3-b187-27bc23cd904b"
      },
      "execution_count": 77,
      "outputs": [
        {
          "output_type": "display_data",
          "data": {
            "text/plain": [
              "    Đội bóng có Attack cao nhất trong danh sách  Attack\n",
              "230                                    Al Nassr      87"
            ],
            "text/html": [
              "\n",
              "  <div id=\"df-092f1947-e316-4d7f-a6c5-cf1c6d6da6a3\">\n",
              "    <div class=\"colab-df-container\">\n",
              "      <div>\n",
              "<style scoped>\n",
              "    .dataframe tbody tr th:only-of-type {\n",
              "        vertical-align: middle;\n",
              "    }\n",
              "\n",
              "    .dataframe tbody tr th {\n",
              "        vertical-align: top;\n",
              "    }\n",
              "\n",
              "    .dataframe thead th {\n",
              "        text-align: right;\n",
              "    }\n",
              "</style>\n",
              "<table border=\"1\" class=\"dataframe\">\n",
              "  <thead>\n",
              "    <tr style=\"text-align: right;\">\n",
              "      <th></th>\n",
              "      <th>Đội bóng có Attack cao nhất trong danh sách</th>\n",
              "      <th>Attack</th>\n",
              "    </tr>\n",
              "  </thead>\n",
              "  <tbody>\n",
              "    <tr>\n",
              "      <th>230</th>\n",
              "      <td>Al Nassr</td>\n",
              "      <td>87</td>\n",
              "    </tr>\n",
              "  </tbody>\n",
              "</table>\n",
              "</div>\n",
              "      <button class=\"colab-df-convert\" onclick=\"convertToInteractive('df-092f1947-e316-4d7f-a6c5-cf1c6d6da6a3')\"\n",
              "              title=\"Convert this dataframe to an interactive table.\"\n",
              "              style=\"display:none;\">\n",
              "        \n",
              "  <svg xmlns=\"http://www.w3.org/2000/svg\" height=\"24px\"viewBox=\"0 0 24 24\"\n",
              "       width=\"24px\">\n",
              "    <path d=\"M0 0h24v24H0V0z\" fill=\"none\"/>\n",
              "    <path d=\"M18.56 5.44l.94 2.06.94-2.06 2.06-.94-2.06-.94-.94-2.06-.94 2.06-2.06.94zm-11 1L8.5 8.5l.94-2.06 2.06-.94-2.06-.94L8.5 2.5l-.94 2.06-2.06.94zm10 10l.94 2.06.94-2.06 2.06-.94-2.06-.94-.94-2.06-.94 2.06-2.06.94z\"/><path d=\"M17.41 7.96l-1.37-1.37c-.4-.4-.92-.59-1.43-.59-.52 0-1.04.2-1.43.59L10.3 9.45l-7.72 7.72c-.78.78-.78 2.05 0 2.83L4 21.41c.39.39.9.59 1.41.59.51 0 1.02-.2 1.41-.59l7.78-7.78 2.81-2.81c.8-.78.8-2.07 0-2.86zM5.41 20L4 18.59l7.72-7.72 1.47 1.35L5.41 20z\"/>\n",
              "  </svg>\n",
              "      </button>\n",
              "      \n",
              "  <style>\n",
              "    .colab-df-container {\n",
              "      display:flex;\n",
              "      flex-wrap:wrap;\n",
              "      gap: 12px;\n",
              "    }\n",
              "\n",
              "    .colab-df-convert {\n",
              "      background-color: #E8F0FE;\n",
              "      border: none;\n",
              "      border-radius: 50%;\n",
              "      cursor: pointer;\n",
              "      display: none;\n",
              "      fill: #1967D2;\n",
              "      height: 32px;\n",
              "      padding: 0 0 0 0;\n",
              "      width: 32px;\n",
              "    }\n",
              "\n",
              "    .colab-df-convert:hover {\n",
              "      background-color: #E2EBFA;\n",
              "      box-shadow: 0px 1px 2px rgba(60, 64, 67, 0.3), 0px 1px 3px 1px rgba(60, 64, 67, 0.15);\n",
              "      fill: #174EA6;\n",
              "    }\n",
              "\n",
              "    [theme=dark] .colab-df-convert {\n",
              "      background-color: #3B4455;\n",
              "      fill: #D2E3FC;\n",
              "    }\n",
              "\n",
              "    [theme=dark] .colab-df-convert:hover {\n",
              "      background-color: #434B5C;\n",
              "      box-shadow: 0px 1px 3px 1px rgba(0, 0, 0, 0.15);\n",
              "      filter: drop-shadow(0px 1px 2px rgba(0, 0, 0, 0.3));\n",
              "      fill: #FFFFFF;\n",
              "    }\n",
              "  </style>\n",
              "\n",
              "      <script>\n",
              "        const buttonEl =\n",
              "          document.querySelector('#df-092f1947-e316-4d7f-a6c5-cf1c6d6da6a3 button.colab-df-convert');\n",
              "        buttonEl.style.display =\n",
              "          google.colab.kernel.accessAllowed ? 'block' : 'none';\n",
              "\n",
              "        async function convertToInteractive(key) {\n",
              "          const element = document.querySelector('#df-092f1947-e316-4d7f-a6c5-cf1c6d6da6a3');\n",
              "          const dataTable =\n",
              "            await google.colab.kernel.invokeFunction('convertToInteractive',\n",
              "                                                     [key], {});\n",
              "          if (!dataTable) return;\n",
              "\n",
              "          const docLinkHtml = 'Like what you see? Visit the ' +\n",
              "            '<a target=\"_blank\" href=https://colab.research.google.com/notebooks/data_table.ipynb>data table notebook</a>'\n",
              "            + ' to learn more about interactive tables.';\n",
              "          element.innerHTML = '';\n",
              "          dataTable['output_type'] = 'display_data';\n",
              "          await google.colab.output.renderOutput(dataTable, element);\n",
              "          const docLink = document.createElement('div');\n",
              "          docLink.innerHTML = docLinkHtml;\n",
              "          element.appendChild(docLink);\n",
              "        }\n",
              "      </script>\n",
              "    </div>\n",
              "  </div>\n",
              "  "
            ]
          },
          "metadata": {}
        }
      ]
    },
    {
      "cell_type": "markdown",
      "source": [
        "\n",
        "**Câu hỏi 4:** Có bao nhiêu đội bóng đến từ mỗi quốc gia?\n",
        ">Ý nghĩa: Câu hỏi này giúp chúng ta có thể biết được sự phân bố của các đội bóng theo từng quốc gia. Điều này có thể giúp ta phân tích sức mạnh của bóng đá từng quốc gia, cũng như đánh giá chất lượng của từng giải đấu.\n"
      ],
      "metadata": {
        "id": "XH7rSIKIYfMP"
      }
    },
    {
      "cell_type": "code",
      "source": [
        "df['Country'] = df['League'].str.split(']').str[0].str.strip('[')\n",
        "country_counts = df['Country'].value_counts()\n",
        "\n",
        "# print(df['Country'].value_counts())\n",
        "plt.pie(country_counts, labels=country_counts.index, autopct='%1.1f%%')\n",
        "plt.show()"
      ],
      "metadata": {
        "colab": {
          "base_uri": "https://localhost:8080/",
          "height": 406
        },
        "id": "Cln2tAzdbKgL",
        "outputId": "d845b50d-341c-46e9-aa15-4b9515d91146"
      },
      "execution_count": 110,
      "outputs": [
        {
          "output_type": "display_data",
          "data": {
            "text/plain": [
              "<Figure size 640x480 with 1 Axes>"
            ],
            "image/png": "[encoded data removed]"
          },
          "metadata": {}
        }
      ]
    },
    {
      "cell_type": "markdown",
      "source": [
        "\n",
        "**Câu hỏi 5:** Số lượng đội bóng theo Uy tín quốc tế (International prestige)? \n",
        "\n",
        "> Ý nghĩa: Câu hỏi này giúp chúng ta có cái nhìn tổng quan về sự phân bố đội bóng theo mức độ uy tín quốc tế trên trang web sofifa.com. Số lượng đội bóng theo mức độ uy tín sẽ phản ánh mức độ quan tâm của cộng đồng đối với các giải đấu bóng đá trên toàn thế giới và cũng giúp chúng ta đánh giá được mức độ cạnh tranh của các giải đấu này.\n"
      ],
      "metadata": {
        "id": "XD_CN6LFYgSX"
      }
    },
    {
      "cell_type": "code",
      "source": [
        "prestige_counts = df.groupby('International prestige').size()\n",
        "print(prestige_counts)\n",
        "plt.pie(prestige_counts.values, labels=prestige_counts.index, autopct='%1.1f%%')\n",
        "plt.title('Number of Teams by International Prestige')\n",
        "plt.show()\n"
      ],
      "metadata": {
        "colab": {
          "base_uri": "https://localhost:8080/",
          "height": 636
        },
        "id": "cSf3blctdw5G",
        "outputId": "2a176242-0169-44c6-cdaf-42588c42bf83"
      },
      "execution_count": 109,
      "outputs": [
        {
          "output_type": "stream",
          "name": "stdout",
          "text": [
            "International prestige\n",
            "1     350\n",
            "2      80\n",
            "3      72\n",
            "4      52\n",
            "5      49\n",
            "6      30\n",
            "7      24\n",
            "8       9\n",
            "9       6\n",
            "10      4\n",
            "dtype: int64\n"
          ]
        },
        {
          "output_type": "display_data",
          "data": {
            "text/plain": [
              "<Figure size 640x480 with 1 Axes>"
            ],
            "image/png": "[encoded data removed]"
          },
          "metadata": {}
        }
      ]
    },
    {
      "cell_type": "markdown",
      "source": [
        "\n",
        "**Nguồn cảm hứng của câu hỏi?**\n",
        "\n",
        "> Tham khảo các thông tin liên quan đến đội bóng từ tin tức bóng đá trên các trang web chuyên về thể thao, các trận đấu bóng đá gần đây, thống kê về các cầu thủ và đội bóng."
      ],
      "metadata": {
        "id": "qfxwtdW9YhOi"
      }
    },
    {
      "cell_type": "markdown",
      "metadata": {
        "id": "YVc-10q_MonW"
      },
      "source": [
        "# PHẦN 2: MÔ HÌNH HÓA DỮ LIỆU"
      ]
    },
    {
      "cell_type": "markdown",
      "metadata": {
        "id": "5UcDklZcvf59"
      },
      "source": [
        "### A. Mô hình hóa dữ liệu và đánh giá mô hình"
      ]
    },
    {
      "cell_type": "markdown",
      "metadata": {
        "id": "2CH5vVL11OwF"
      },
      "source": [
        "### THUẬT TOÁN PHÂN LOẠI RANDOM FOREST"
      ]
    },
    {
      "cell_type": "markdown",
      "metadata": {
        "id": "Ly7LRBxnvf59"
      },
      "source": [
        "##### Phân loại đội bóng (uy tín, không uy tín) dựa trên các đặc trưng của đội bóng như (Overall, International prestige, Domestic prestige) sử dụng thuật toán phân loại Random Forest"
      ]
    },
    {
      "cell_type": "markdown",
      "metadata": {
        "id": "SRFp-icTvf59"
      },
      "source": [
        "Để giải quyết bài toán này, chúng ta sẽ thực hiện các bước sau:\n",
        "\n",
        "1. Khám phá và tiền xử lý dữ liệu.\n",
        "2. Tạo tập huấn luyện và tập kiểm tra.\n",
        "3. Huấn luyện mô hình phân loại Random Forest.\n",
        "4. Đánh giá mô hình."
      ]
    },
    {
      "cell_type": "markdown",
      "metadata": {
        "id": "UbZrxUQ5vf59"
      },
      "source": [
        "**Bước 1: Khám phá và tiền xử lý dữ liệu**"
      ]
    },
    {
      "cell_type": "markdown",
      "metadata": {
        "id": "1Z45x-ugxn3P"
      },
      "source": [
        "* Kiểm tra các cột thiếu dữ liệu"
      ]
    },
    {
      "cell_type": "code",
      "execution_count": 27,
      "metadata": {
        "id": "E156u0vHxb6I",
        "colab": {
          "base_uri": "https://localhost:8080/"
        },
        "outputId": "2b0660e8-8f28-4aa5-f38d-1ab683b7f3dd"
      },
      "outputs": [
        {
          "output_type": "stream",
          "name": "stdout",
          "text": [
            "Name                        0\n",
            "League                      0\n",
            "Overall                     0\n",
            "Attack                      0\n",
            "Midfield                    0\n",
            "Defence                     0\n",
            "Home stadium               25\n",
            "Rival team                  0\n",
            "International prestige      0\n",
            "Domestic prestige          35\n",
            "Club worth                 57\n",
            "Starting XI average age     0\n",
            "Whole team average age      0\n",
            "Captain                     0\n",
            "Short free kick             0\n",
            "Long free kick              0\n",
            "Left short free kick        0\n",
            "Right short free kick       0\n",
            "Penalties                   2\n",
            "Left corner                 0\n",
            "Right corner                1\n",
            "dtype: int64\n"
          ]
        }
      ],
      "source": [
        "print(df.isna().sum())\n"
      ]
    },
    {
      "cell_type": "markdown",
      "metadata": {
        "id": "306A_ekyx8xL"
      },
      "source": [
        "* Xóa các dòng dữ liệu NaN ở cột Domestic prestige"
      ]
    },
    {
      "cell_type": "code",
      "execution_count": 28,
      "metadata": {
        "id": "TPFL8suIyHWp"
      },
      "outputs": [],
      "source": [
        "df.dropna(subset=['Domestic prestige'], inplace=True)"
      ]
    },
    {
      "cell_type": "markdown",
      "metadata": {
        "id": "66uL6SJQvf59"
      },
      "source": [
        "**Bước 2: Tạo tập huấn luyện và tập kiểm tra**"
      ]
    },
    {
      "cell_type": "code",
      "execution_count": 29,
      "metadata": {
        "id": "pc31d7zqvf59"
      },
      "outputs": [],
      "source": [
        "import numpy as np\n",
        "import pandas as pd\n",
        "from sklearn.model_selection import train_test_split\n",
        "from sklearn.ensemble import RandomForestClassifier\n",
        "from sklearn.metrics import accuracy_score, classification_report, confusion_matrix"
      ]
    },
    {
      "cell_type": "markdown",
      "metadata": {
        "id": "Gw2N9ATevf59"
      },
      "source": [
        "* Chọn các đặc trưng để sử dụng cho mô hình phân loại"
      ]
    },
    {
      "cell_type": "code",
      "execution_count": 30,
      "metadata": {
        "id": "UqTgfC33vf59"
      },
      "outputs": [],
      "source": [
        "features = ['Overall', 'International prestige', 'Domestic prestige']\n",
        "X = df[features]"
      ]
    },
    {
      "cell_type": "markdown",
      "metadata": {
        "id": "mAo_VR-3vf59"
      },
      "source": [
        "* Tạo nhãn dựa trên điều kiện uy tín (ví dụ: Overall >= 75 và (International prestige >= 6 hoặc Domestic prestige>= 6))"
      ]
    },
    {
      "cell_type": "code",
      "execution_count": 31,
      "metadata": {
        "id": "I4pRyPAyvf5-"
      },
      "outputs": [],
      "source": [
        "y = (df['Overall'] >= 70) & ((df['International prestige'] >= 5) | (df['Domestic prestige'] >= 5))"
      ]
    },
    {
      "cell_type": "markdown",
      "metadata": {
        "id": "6RiYbIHovf5-"
      },
      "source": [
        "* Chia dữ liệu thành tập huấn luyện và tập kiểm tra"
      ]
    },
    {
      "cell_type": "code",
      "execution_count": 32,
      "metadata": {
        "id": "QlTSoXARvf5-"
      },
      "outputs": [],
      "source": [
        "X_train, X_test, y_train, y_test = train_test_split(X, y, test_size=0.2, random_state=42)"
      ]
    },
    {
      "cell_type": "markdown",
      "metadata": {
        "id": "bGyvfMf_vf5-"
      },
      "source": [
        "**Bước 3: Huấn luyện mô hình phân loại Random Forest**"
      ]
    },
    {
      "cell_type": "markdown",
      "metadata": {
        "id": "x1BludnMvf5-"
      },
      "source": [
        "* Tạo mô hình Random Forest với 100 cây quyết định"
      ]
    },
    {
      "cell_type": "code",
      "execution_count": 33,
      "metadata": {
        "id": "5pJRxkOOvf5-"
      },
      "outputs": [],
      "source": [
        "clf = RandomForestClassifier(n_estimators=100, random_state=42)"
      ]
    },
    {
      "cell_type": "markdown",
      "metadata": {
        "id": "_JRf7EUjvf5-"
      },
      "source": [
        "* Huấn luyện mô hình với dữ liệu huấn luyện"
      ]
    },
    {
      "cell_type": "code",
      "execution_count": 34,
      "metadata": {
        "id": "siT0tUuOvf5-",
        "colab": {
          "base_uri": "https://localhost:8080/",
          "height": 75
        },
        "outputId": "e9c2881f-3ecb-4188-cf32-8d453c1c3e6d"
      },
      "outputs": [
        {
          "output_type": "execute_result",
          "data": {
            "text/plain": [
              "RandomForestClassifier(random_state=42)"
            ],
            "text/html": [
              "<style>#sk-container-id-1 {color: black;background-color: white;}#sk-container-id-1 pre{padding: 0;}#sk-container-id-1 div.sk-toggleable {background-color: white;}#sk-container-id-1 label.sk-toggleable__label {cursor: pointer;display: block;width: 100%;margin-bottom: 0;padding: 0.3em;box-sizing: border-box;text-align: center;}#sk-container-id-1 label.sk-toggleable__label-arrow:before {content: \"▸\";float: left;margin-right: 0.25em;color: #696969;}#sk-container-id-1 label.sk-toggleable__label-arrow:hover:before {color: black;}#sk-container-id-1 div.sk-estimator:hover label.sk-toggleable__label-arrow:before {color: black;}#sk-container-id-1 div.sk-toggleable__content {max-height: 0;max-width: 0;overflow: hidden;text-align: left;background-color: #f0f8ff;}#sk-container-id-1 div.sk-toggleable__content pre {margin: 0.2em;color: black;border-radius: 0.25em;background-color: #f0f8ff;}#sk-container-id-1 input.sk-toggleable__control:checked~div.sk-toggleable__content {max-height: 200px;max-width: 100%;overflow: auto;}#sk-container-id-1 input.sk-toggleable__control:checked~label.sk-toggleable__label-arrow:before {content: \"▾\";}#sk-container-id-1 div.sk-estimator input.sk-toggleable__control:checked~label.sk-toggleable__label {background-color: #d4ebff;}#sk-container-id-1 div.sk-label input.sk-toggleable__control:checked~label.sk-toggleable__label {background-color: #d4ebff;}#sk-container-id-1 input.sk-hidden--visually {border: 0;clip: rect(1px 1px 1px 1px);clip: rect(1px, 1px, 1px, 1px);height: 1px;margin: -1px;overflow: hidden;padding: 0;position: absolute;width: 1px;}#sk-container-id-1 div.sk-estimator {font-family: monospace;background-color: #f0f8ff;border: 1px dotted black;border-radius: 0.25em;box-sizing: border-box;margin-bottom: 0.5em;}#sk-container-id-1 div.sk-estimator:hover {background-color: #d4ebff;}#sk-container-id-1 div.sk-parallel-item::after {content: \"\";width: 100%;border-bottom: 1px solid gray;flex-grow: 1;}#sk-container-id-1 div.sk-label:hover label.sk-toggleable__label {background-color: #d4ebff;}#sk-container-id-1 div.sk-serial::before {content: \"\";position: absolute;border-left: 1px solid gray;box-sizing: border-box;top: 0;bottom: 0;left: 50%;z-index: 0;}#sk-container-id-1 div.sk-serial {display: flex;flex-direction: column;align-items: center;background-color: white;padding-right: 0.2em;padding-left: 0.2em;position: relative;}#sk-container-id-1 div.sk-item {position: relative;z-index: 1;}#sk-container-id-1 div.sk-parallel {display: flex;align-items: stretch;justify-content: center;background-color: white;position: relative;}#sk-container-id-1 div.sk-item::before, #sk-container-id-1 div.sk-parallel-item::before {content: \"\";position: absolute;border-left: 1px solid gray;box-sizing: border-box;top: 0;bottom: 0;left: 50%;z-index: -1;}#sk-container-id-1 div.sk-parallel-item {display: flex;flex-direction: column;z-index: 1;position: relative;background-color: white;}#sk-container-id-1 div.sk-parallel-item:first-child::after {align-self: flex-end;width: 50%;}#sk-container-id-1 div.sk-parallel-item:last-child::after {align-self: flex-start;width: 50%;}#sk-container-id-1 div.sk-parallel-item:only-child::after {width: 0;}#sk-container-id-1 div.sk-dashed-wrapped {border: 1px dashed gray;margin: 0 0.4em 0.5em 0.4em;box-sizing: border-box;padding-bottom: 0.4em;background-color: white;}#sk-container-id-1 div.sk-label label {font-family: monospace;font-weight: bold;display: inline-block;line-height: 1.2em;}#sk-container-id-1 div.sk-label-container {text-align: center;}#sk-container-id-1 div.sk-container {/* jupyter's `normalize.less` sets `[hidden] { display: none; }` but bootstrap.min.css set `[hidden] { display: none !important; }` so we also need the `!important` here to be able to override the default hidden behavior on the sphinx rendered scikit-learn.org. See: https://github.com/scikit-learn/scikit-learn/issues/21755 */display: inline-block !important;position: relative;}#sk-container-id-1 div.sk-text-repr-fallback {display: none;}</style><div id=\"sk-container-id-1\" class=\"sk-top-container\"><div class=\"sk-text-repr-fallback\"><pre>RandomForestClassifier(random_state=42)</pre><b>In a Jupyter environment, please rerun this cell to show the HTML representation or trust the notebook. <br />On GitHub, the HTML representation is unable to render, please try loading this page with nbviewer.org.</b></div><div class=\"sk-container\" hidden><div class=\"sk-item\"><div class=\"sk-estimator sk-toggleable\"><input class=\"sk-toggleable__control sk-hidden--visually\" id=\"sk-estimator-id-1\" type=\"checkbox\" checked><label for=\"sk-estimator-id-1\" class=\"sk-toggleable__label sk-toggleable__label-arrow\">RandomForestClassifier</label><div class=\"sk-toggleable__content\"><pre>RandomForestClassifier(random_state=42)</pre></div></div></div></div></div>"
            ]
          },
          "metadata": {},
          "execution_count": 34
        }
      ],
      "source": [
        "clf.fit(X_train, y_train)"
      ]
    },
    {
      "cell_type": "markdown",
      "metadata": {
        "id": "OTgqcWLFvf5-"
      },
      "source": [
        "**Bước 4: Đánh giá mô hình**"
      ]
    },
    {
      "cell_type": "markdown",
      "metadata": {
        "id": "XKSvxAA5vf5-"
      },
      "source": [
        "* Dự đoán nhãn cho tập kiểm tra"
      ]
    },
    {
      "cell_type": "code",
      "execution_count": 35,
      "metadata": {
        "id": "KkbS0gpavf5_"
      },
      "outputs": [],
      "source": [
        "y_pred = clf.predict(X_test)"
      ]
    },
    {
      "cell_type": "markdown",
      "metadata": {
        "id": "RUNIdSYuvf5_"
      },
      "source": [
        "* Tính độ chính xác của mô hình"
      ]
    },
    {
      "cell_type": "code",
      "execution_count": 36,
      "metadata": {
        "id": "IAyKUO8Yvf5_",
        "colab": {
          "base_uri": "https://localhost:8080/"
        },
        "outputId": "8ad22713-721b-48e8-8439-037499b985ca"
      },
      "outputs": [
        {
          "output_type": "stream",
          "name": "stdout",
          "text": [
            "Độ chính xác: 1.0\n"
          ]
        }
      ],
      "source": [
        "accuracy = accuracy_score(y_test, y_pred)\n",
        "print(\"Độ chính xác:\", accuracy)"
      ]
    },
    {
      "cell_type": "markdown",
      "metadata": {
        "id": "PCOvTtaBvf5_"
      },
      "source": [
        "* Tính bảng phân loại"
      ]
    },
    {
      "cell_type": "code",
      "execution_count": 37,
      "metadata": {
        "id": "-u9oRmMCvf5_",
        "colab": {
          "base_uri": "https://localhost:8080/"
        },
        "outputId": "de284e25-106d-4c40-c6f7-1dc61facc1e3"
      },
      "outputs": [
        {
          "output_type": "stream",
          "name": "stdout",
          "text": [
            "Bảng phân loại:\n",
            "               precision    recall  f1-score   support\n",
            "\n",
            "       False       1.00      1.00      1.00        96\n",
            "        True       1.00      1.00      1.00        40\n",
            "\n",
            "    accuracy                           1.00       136\n",
            "   macro avg       1.00      1.00      1.00       136\n",
            "weighted avg       1.00      1.00      1.00       136\n",
            "\n"
          ]
        }
      ],
      "source": [
        "report = classification_report(y_test, y_pred)\n",
        "print(\"Bảng phân loại:\\n\", report)"
      ]
    },
    {
      "cell_type": "markdown",
      "metadata": {
        "id": "2kundb_zvf5_"
      },
      "source": [
        "* Tính ma trận nhầm lẫn"
      ]
    },
    {
      "cell_type": "code",
      "execution_count": 38,
      "metadata": {
        "id": "trvg-Mzgvf5_",
        "colab": {
          "base_uri": "https://localhost:8080/"
        },
        "outputId": "eb0165fa-4f60-4bb1-d0aa-59ab1ad72d38"
      },
      "outputs": [
        {
          "output_type": "stream",
          "name": "stdout",
          "text": [
            "Ma trận nhầm lẫn:\n",
            " [[96  0]\n",
            " [ 0 40]]\n"
          ]
        }
      ],
      "source": [
        "cm = confusion_matrix(y_test, y_pred)\n",
        "print(\"Ma trận nhầm lẫn:\\n\", cm)"
      ]
    },
    {
      "cell_type": "markdown",
      "metadata": {
        "id": "dUCsgVLTvf5_"
      },
      "source": [
        "Sau khi thực hiện các bước trên, bạn sẽ có được kết quả đánh giá mô hình phân loại đội bóng (uy tín, không uy tín) sử dụng thuật toán Random Forest."
      ]
    },
    {
      "cell_type": "markdown",
      "metadata": {
        "id": "t-4GYAka1OwJ"
      },
      "source": [
        "### THUẬT TOÁN HỒI QUY TUYẾN TÍNH"
      ]
    },
    {
      "cell_type": "code",
      "execution_count": 39,
      "metadata": {
        "id": "Ov5z3XNF1OwJ",
        "colab": {
          "base_uri": "https://localhost:8080/",
          "height": 75
        },
        "outputId": "7f303a96-e90f-447a-d3cf-da8b4a085cc8"
      },
      "outputs": [
        {
          "output_type": "execute_result",
          "data": {
            "text/plain": [
              "LinearRegression()"
            ],
            "text/html": [
              "<style>#sk-container-id-2 {color: black;background-color: white;}#sk-container-id-2 pre{padding: 0;}#sk-container-id-2 div.sk-toggleable {background-color: white;}#sk-container-id-2 label.sk-toggleable__label {cursor: pointer;display: block;width: 100%;margin-bottom: 0;padding: 0.3em;box-sizing: border-box;text-align: center;}#sk-container-id-2 label.sk-toggleable__label-arrow:before {content: \"▸\";float: left;margin-right: 0.25em;color: #696969;}#sk-container-id-2 label.sk-toggleable__label-arrow:hover:before {color: black;}#sk-container-id-2 div.sk-estimator:hover label.sk-toggleable__label-arrow:before {color: black;}#sk-container-id-2 div.sk-toggleable__content {max-height: 0;max-width: 0;overflow: hidden;text-align: left;background-color: #f0f8ff;}#sk-container-id-2 div.sk-toggleable__content pre {margin: 0.2em;color: black;border-radius: 0.25em;background-color: #f0f8ff;}#sk-container-id-2 input.sk-toggleable__control:checked~div.sk-toggleable__content {max-height: 200px;max-width: 100%;overflow: auto;}#sk-container-id-2 input.sk-toggleable__control:checked~label.sk-toggleable__label-arrow:before {content: \"▾\";}#sk-container-id-2 div.sk-estimator input.sk-toggleable__control:checked~label.sk-toggleable__label {background-color: #d4ebff;}#sk-container-id-2 div.sk-label input.sk-toggleable__control:checked~label.sk-toggleable__label {background-color: #d4ebff;}#sk-container-id-2 input.sk-hidden--visually {border: 0;clip: rect(1px 1px 1px 1px);clip: rect(1px, 1px, 1px, 1px);height: 1px;margin: -1px;overflow: hidden;padding: 0;position: absolute;width: 1px;}#sk-container-id-2 div.sk-estimator {font-family: monospace;background-color: #f0f8ff;border: 1px dotted black;border-radius: 0.25em;box-sizing: border-box;margin-bottom: 0.5em;}#sk-container-id-2 div.sk-estimator:hover {background-color: #d4ebff;}#sk-container-id-2 div.sk-parallel-item::after {content: \"\";width: 100%;border-bottom: 1px solid gray;flex-grow: 1;}#sk-container-id-2 div.sk-label:hover label.sk-toggleable__label {background-color: #d4ebff;}#sk-container-id-2 div.sk-serial::before {content: \"\";position: absolute;border-left: 1px solid gray;box-sizing: border-box;top: 0;bottom: 0;left: 50%;z-index: 0;}#sk-container-id-2 div.sk-serial {display: flex;flex-direction: column;align-items: center;background-color: white;padding-right: 0.2em;padding-left: 0.2em;position: relative;}#sk-container-id-2 div.sk-item {position: relative;z-index: 1;}#sk-container-id-2 div.sk-parallel {display: flex;align-items: stretch;justify-content: center;background-color: white;position: relative;}#sk-container-id-2 div.sk-item::before, #sk-container-id-2 div.sk-parallel-item::before {content: \"\";position: absolute;border-left: 1px solid gray;box-sizing: border-box;top: 0;bottom: 0;left: 50%;z-index: -1;}#sk-container-id-2 div.sk-parallel-item {display: flex;flex-direction: column;z-index: 1;position: relative;background-color: white;}#sk-container-id-2 div.sk-parallel-item:first-child::after {align-self: flex-end;width: 50%;}#sk-container-id-2 div.sk-parallel-item:last-child::after {align-self: flex-start;width: 50%;}#sk-container-id-2 div.sk-parallel-item:only-child::after {width: 0;}#sk-container-id-2 div.sk-dashed-wrapped {border: 1px dashed gray;margin: 0 0.4em 0.5em 0.4em;box-sizing: border-box;padding-bottom: 0.4em;background-color: white;}#sk-container-id-2 div.sk-label label {font-family: monospace;font-weight: bold;display: inline-block;line-height: 1.2em;}#sk-container-id-2 div.sk-label-container {text-align: center;}#sk-container-id-2 div.sk-container {/* jupyter's `normalize.less` sets `[hidden] { display: none; }` but bootstrap.min.css set `[hidden] { display: none !important; }` so we also need the `!important` here to be able to override the default hidden behavior on the sphinx rendered scikit-learn.org. See: https://github.com/scikit-learn/scikit-learn/issues/21755 */display: inline-block !important;position: relative;}#sk-container-id-2 div.sk-text-repr-fallback {display: none;}</style><div id=\"sk-container-id-2\" class=\"sk-top-container\"><div class=\"sk-text-repr-fallback\"><pre>LinearRegression()</pre><b>In a Jupyter environment, please rerun this cell to show the HTML representation or trust the notebook. <br />On GitHub, the HTML representation is unable to render, please try loading this page with nbviewer.org.</b></div><div class=\"sk-container\" hidden><div class=\"sk-item\"><div class=\"sk-estimator sk-toggleable\"><input class=\"sk-toggleable__control sk-hidden--visually\" id=\"sk-estimator-id-2\" type=\"checkbox\" checked><label for=\"sk-estimator-id-2\" class=\"sk-toggleable__label sk-toggleable__label-arrow\">LinearRegression</label><div class=\"sk-toggleable__content\"><pre>LinearRegression()</pre></div></div></div></div></div>"
            ]
          },
          "metadata": {},
          "execution_count": 39
        }
      ],
      "source": [
        "from sklearn.linear_model import LinearRegression\n",
        "\n",
        "model = LinearRegression()\n",
        "model.fit(X=X_train,y = y_train)"
      ]
    },
    {
      "cell_type": "code",
      "execution_count": 40,
      "metadata": {
        "id": "WBZ0WyfR1OwJ",
        "colab": {
          "base_uri": "https://localhost:8080/"
        },
        "outputId": "ee9b8889-8606-4254-8b38-96715250b34e"
      },
      "outputs": [
        {
          "output_type": "stream",
          "name": "stdout",
          "text": [
            "Độ chính xác: 0.6151503033345158\n"
          ]
        }
      ],
      "source": [
        "from sklearn.metrics import r2_score\n",
        "y_pred = model.predict(X=X_test)\n",
        "accuracy = r2_score(y_test,y_pred)\n",
        "print(\"Độ chính xác:\", accuracy)"
      ]
    },
    {
      "cell_type": "code",
      "execution_count": null,
      "metadata": {
        "id": "NXlegnnT1OwJ"
      },
      "outputs": [],
      "source": []
    },
    {
      "cell_type": "code",
      "execution_count": null,
      "metadata": {
        "id": "K6CYctmP1OwJ"
      },
      "outputs": [],
      "source": []
    },
    {
      "cell_type": "markdown",
      "metadata": {
        "id": "PZiyu_nL1OwK"
      },
      "source": [
        "### Nhận xét:\n",
        "Độ chính xác của mô hình hồi quy tuyến tính thấp hơn so với mô hình random forest"
      ]
    },
    {
      "cell_type": "markdown",
      "source": [
        "### PHẦN 3: TỔNG HỢP KẾT QUẢ\n",
        "\n",
        "\n",
        "Báo cáo đánh giá đồ án của Nhóm 7:\n",
        "\n",
        "Những khó khăn đã gặp phải:\n",
        "- Trong quá trình thực hiện đồ án, gặp khó khăn khi phân tích dữ liệu. Tuy nhiên, thông qua việc tra cứu tài liệu và học hỏi từ thành viên trong nhóm, vượt qua được khó khăn này.\n",
        "- Trong quá trình thực hiện đồ án, gặp khó khăn khi trình bày kết quả bằng biểu đồ. Tuy nhiên, sau khi học hỏi từ đồng đội và tìm hiểu thêm về cách sử dụng thư viện trực quan hóa dữ liệu, khắc phục được khó khăn này.\n",
        "\n",
        "Những kiến thức học hỏi được:\n",
        "\n",
        "- Học được cách thu thập và phân tích dữ liệu bằng ngôn ngữ Python. Đồng thời, học được cách sử dụng các thư viện hỗ trợ trong việc xử lý dữ liệu như Pandas và Numpy.\n",
        "- Học được cách trình bày kết quả bằng các biểu đồ trực quan. Đồng thời, nâng cao được kỹ năng lập trình bằng ngôn ngữ Python thông qua việc thực hiện đồ án.\n",
        "Nhóm của bạn:\n",
        "\n",
        "Nếu có nhiều thời gian hơn, sẽ cố gắng thực hiện một số công việc như sau:\n",
        "\n",
        "- Tìm hiểu thêm về các thư viện hỗ trợ trong việc xử lý dữ liệu để có thể áp dụng vào việc phân tích dữ liệu phức tạp hơn.\n",
        "- Tìm hiểu và áp dụng các phương pháp phân tích dữ liệu tiên tiến để có thể đưa ra kết luận chính xác và hữu ích hơn.\n",
        "Nâng cao kỹ năng lập trình bằng việc thực hiện các bài tập và dự án thực tế khác để có thể áp dụng kiến thức vào các dự án thực tế trong tương lai."
      ],
      "metadata": {
        "id": "MxdJNJFPl2GG"
      }
    }
  ],
  "metadata": {
    "colab": {
      "provenance": []
    },
    "kernelspec": {
      "display_name": "Python 3",
      "language": "python",
      "name": "python3"
    },
    "language_info": {
      "codemirror_mode": {
        "name": "ipython",
        "version": 3
      },
      "file_extension": ".py",
      "mimetype": "text/x-python",
      "name": "python",
      "nbconvert_exporter": "python",
      "pygments_lexer": "ipython3",
      "version": "3.8.3"
    }
  },
  "nbformat": 4,
  "nbformat_minor": 0
}